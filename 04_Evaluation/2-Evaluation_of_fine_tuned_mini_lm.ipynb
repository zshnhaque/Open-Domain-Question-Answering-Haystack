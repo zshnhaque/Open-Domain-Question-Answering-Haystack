{
 "cells": [
  {
   "cell_type": "markdown",
   "metadata": {},
   "source": [
    "## For reference, take help of Haystack Tutorial\n",
    "\n",
    "- https://github.com/deepset-ai/haystack/blob/master/tutorials/Tutorial5_Evaluation.ipynb"
   ]
  },
  {
   "cell_type": "code",
   "execution_count": null,
   "metadata": {
    "colab": {
     "base_uri": "https://localhost:8080/"
    },
    "executionInfo": {
     "elapsed": 294249,
     "status": "ok",
     "timestamp": 1606665496900,
     "user": {
      "displayName": "Zeeshan Haque Syed",
      "photoUrl": "https://lh3.googleusercontent.com/a-/AOh14Gif2XfGMeXvn2IzSb5CFsuXqUPqJy0rCnsOi2Nm=s64",
      "userId": "08761780578614293800"
     },
     "user_tz": -60
    },
    "id": "jxws8AJHx8eV",
    "outputId": "e98309da-4e33-4c52-c21f-51e1fc0e7e5f"
   },
   "outputs": [],
   "source": [
    "!pip install git+https://github.com/deepset-ai/haystack.git\n",
    "!pip install urllib3==1.25.4\n",
    "!pip install torch==1.6.0+cu101 torchvision==0.6.1+cu101 -f https://download.pytorch.org/whl/torch_stable.html"
   ]
  },
  {
   "cell_type": "code",
   "execution_count": null,
   "metadata": {
    "executionInfo": {
     "elapsed": 91918,
     "status": "ok",
     "timestamp": 1606665550290,
     "user": {
      "displayName": "Zeeshan Haque Syed",
      "photoUrl": "https://lh3.googleusercontent.com/a-/AOh14Gif2XfGMeXvn2IzSb5CFsuXqUPqJy0rCnsOi2Nm=s64",
      "userId": "08761780578614293800"
     },
     "user_tz": -60
    },
    "id": "UuIVf3U9yDsB"
   },
   "outputs": [],
   "source": [
    "! wget https://artifacts.elastic.co/downloads/elasticsearch/elasticsearch-7.9.2-linux-x86_64.tar.gz -q\n",
    "! tar -xzf elasticsearch-7.9.2-linux-x86_64.tar.gz\n",
    "! chown -R daemon:daemon elasticsearch-7.9.2\n",
    "\n",
    "import os\n",
    "from subprocess import Popen, PIPE, STDOUT\n",
    "es_server = Popen(['elasticsearch-7.9.2/bin/elasticsearch'],\n",
    "                   stdout=PIPE, stderr=STDOUT,\n",
    "                   preexec_fn=lambda: os.setuid(1)  # as daemon\n",
    "                  )\n",
    "# wait until ES has started\n",
    "! sleep 30"
   ]
  },
  {
   "cell_type": "code",
   "execution_count": null,
   "metadata": {
    "colab": {
     "base_uri": "https://localhost:8080/"
    },
    "executionInfo": {
     "elapsed": 95492,
     "status": "ok",
     "timestamp": 1606665557135,
     "user": {
      "displayName": "Zeeshan Haque Syed",
      "photoUrl": "https://lh3.googleusercontent.com/a-/AOh14Gif2XfGMeXvn2IzSb5CFsuXqUPqJy0rCnsOi2Nm=s64",
      "userId": "08761780578614293800"
     },
     "user_tz": -60
    },
    "id": "EY-JEEiuHdBB",
    "outputId": "c2b79776-60d3-4f30-d249-e37e04325138"
   },
   "outputs": [],
   "source": [
    "from haystack.preprocessor.cleaning import clean_wiki_text\n",
    "from haystack.preprocessor.utils import convert_files_to_dicts, fetch_archive_from_http"
   ]
  },
  {
   "cell_type": "code",
   "execution_count": null,
   "metadata": {
    "colab": {
     "base_uri": "https://localhost:8080/"
    },
    "executionInfo": {
     "elapsed": 92612,
     "status": "ok",
     "timestamp": 1606665557655,
     "user": {
      "displayName": "Zeeshan Haque Syed",
      "photoUrl": "https://lh3.googleusercontent.com/a-/AOh14Gif2XfGMeXvn2IzSb5CFsuXqUPqJy0rCnsOi2Nm=s64",
      "userId": "08761780578614293800"
     },
     "user_tz": -60
    },
    "id": "lMRyYq_8ynsH",
    "outputId": "be2d22ee-425f-4d4b-ecfe-7d640134c2a2"
   },
   "outputs": [],
   "source": [
    "from farm.utils import initialize_device_settings\n",
    "\n",
    "device, n_gpu = initialize_device_settings(use_cuda=True)"
   ]
  },
  {
   "cell_type": "code",
   "execution_count": null,
   "metadata": {
    "executionInfo": {
     "elapsed": 91252,
     "status": "ok",
     "timestamp": 1606665557655,
     "user": {
      "displayName": "Zeeshan Haque Syed",
      "photoUrl": "https://lh3.googleusercontent.com/a-/AOh14Gif2XfGMeXvn2IzSb5CFsuXqUPqJy0rCnsOi2Nm=s64",
      "userId": "08761780578614293800"
     },
     "user_tz": -60
    },
    "id": "2KMmHlIH1iA_"
   },
   "outputs": [],
   "source": [
    "# Connect to Elasticsearch\n",
    "from haystack.document_store.elasticsearch import ElasticsearchDocumentStore\n",
    "\n",
    "# Connect to Elasticsearch\n",
    "document_store = ElasticsearchDocumentStore(host=\"localhost\", username=\"\", password=\"\", index=\"document\",\n",
    "                                            create_index=False, embedding_field=\"emb\",\n",
    "                                            embedding_dim=768, excluded_meta_data=[\"emb\"])"
   ]
  },
  {
   "cell_type": "code",
   "execution_count": null,
   "metadata": {
    "executionInfo": {
     "elapsed": 955,
     "status": "ok",
     "timestamp": 1606665558618,
     "user": {
      "displayName": "Zeeshan Haque Syed",
      "photoUrl": "https://lh3.googleusercontent.com/a-/AOh14Gif2XfGMeXvn2IzSb5CFsuXqUPqJy0rCnsOi2Nm=s64",
      "userId": "08761780578614293800"
     },
     "user_tz": -60
    },
    "id": "7LzgCRAlVQvt"
   },
   "outputs": [],
   "source": [
    "# make sure these indices do not collide with existing ones, the indices will be wiped clean before data is inserted\n",
    "doc_index = \"tutorial5_docs\"\n",
    "label_index = \"tutorial5_labels\""
   ]
  },
  {
   "cell_type": "code",
   "execution_count": null,
   "metadata": {
    "colab": {
     "base_uri": "https://localhost:8080/"
    },
    "executionInfo": {
     "elapsed": 7320,
     "status": "ok",
     "timestamp": 1606665675051,
     "user": {
      "displayName": "Zeeshan Haque Syed",
      "photoUrl": "https://lh3.googleusercontent.com/a-/AOh14Gif2XfGMeXvn2IzSb5CFsuXqUPqJy0rCnsOi2Nm=s64",
      "userId": "08761780578614293800"
     },
     "user_tz": -60
    },
    "id": "JFEUX7bJVTDE",
    "outputId": "0302d421-d669-4778-e1a5-970e3d368c4b"
   },
   "outputs": [],
   "source": [
    "# Add evaluation data to Elasticsearch database\n",
    "# We first delete the custom tutorial indices to not have duplicate elements\n",
    "# Mount the google drive where you evaluation \n",
    "document_store.delete_all_documents(index=doc_index)\n",
    "document_store.delete_all_documents(index=label_index)\n",
    "\n",
    "#For overall evaluation (LONG+SHORT)\n",
    "document_store.add_eval_data(filename=\"/content/drive/MyDrive/eval_with_title.json\", doc_index=doc_index, label_index=label_index)\n",
    "\n",
    "#For Question with Long Answer evaluation\n",
    "#document_store.add_eval_data(filename=\"/content/drive/MyDrive/eval_with_title_long.json\", doc_index=doc_index, label_index=label_index)\n",
    "\n",
    "#For Question with Short Answer evaluation\n",
    "#document_store.add_eval_data(filename=\"/content/drive/MyDrive/eval_with_title_short.json\", doc_index=doc_index, label_index=label_index)\n",
    "\n",
    "#It is recommended to have only 'one' document for a particular evaluation."
   ]
  },
  {
   "cell_type": "code",
   "execution_count": null,
   "metadata": {
    "executionInfo": {
     "elapsed": 3471,
     "status": "aborted",
     "timestamp": 1606665561147,
     "user": {
      "displayName": "Zeeshan Haque Syed",
      "photoUrl": "https://lh3.googleusercontent.com/a-/AOh14Gif2XfGMeXvn2IzSb5CFsuXqUPqJy0rCnsOi2Nm=s64",
      "userId": "08761780578614293800"
     },
     "user_tz": -60
    },
    "id": "62CgVegPcb6I"
   },
   "outputs": [],
   "source": [
    "document_store_dpr = document_store"
   ]
  },
  {
   "cell_type": "code",
   "execution_count": null,
   "metadata": {
    "executionInfo": {
     "elapsed": 488,
     "status": "ok",
     "timestamp": 1606665682167,
     "user": {
      "displayName": "Zeeshan Haque Syed",
      "photoUrl": "https://lh3.googleusercontent.com/a-/AOh14Gif2XfGMeXvn2IzSb5CFsuXqUPqJy0rCnsOi2Nm=s64",
      "userId": "08761780578614293800"
     },
     "user_tz": -60
    },
    "id": "yw5UJTWFcjdV"
   },
   "outputs": [],
   "source": [
    "from haystack.retriever.dense import DensePassageRetriever,EmbeddingRetriever\n",
    "from haystack.retriever.sparse import ElasticsearchRetriever, TfidfRetriever"
   ]
  },
  {
   "cell_type": "code",
   "execution_count": null,
   "metadata": {
    "colab": {
     "base_uri": "https://localhost:8080/",
     "height": 650,
     "referenced_widgets": [
      "af71a96afd6043c68acb2a6aed90c270",
      "5e13164f29d6417482f3cd5a637acb27",
      "efeaedff1dae4aa5b0492b39eea8d73f",
      "38601493a7534672a9b688089e6df031",
      "4c7a46acc2944c1a931f2584a660bb31",
      "3e407f3f04294a12a3131c63bb3b3f4c",
      "c875a9c2b96f4128ab5ef603b475ac00",
      "e722e87c5ce44db9a8b70424a7cf94aa",
      "4b0a91d869444dba96e0ffd6d161859b",
      "d44fb49a727f4fcbb2c855858b89cb5d",
      "9f53ad1df4814be7aa03d76a36a7e4e8",
      "b849e2397ff14e8991616f029c2cc59d",
      "2336117ebb6b45b5a1a1fe20222e213c",
      "f9b64914b6534ed2b340eb3374cd05a5",
      "0ef6a6e9acb745ee91c880cf8c8fd488",
      "b77cfe2a77ba46e78718eb1ac2342f86",
      "fa361d4d474c4287b96a695f06812aee",
      "7160ee9229094f24bb784d924a930e2b",
      "e345baeca1004924a8c9d9a722f0f531",
      "7949ba78015f42aeafc203fd6ed00aca",
      "1e586b245b7e47b1972016e0eee40141",
      "de7e3d2a47bb4fc9a837f12445840f58",
      "c6df3d4a9578439ea5edcffea7bca2e5",
      "f69955cf50124a1789cdc041180b85a0",
      "09248c194be54ce09dc7f5390ba39fdc",
      "72ad675afcd34aaba0acd57138819f61",
      "b77e4ef943d34f8a855d5d0187ecf5cf",
      "d6a3aed9750a4991a2c1bc4645e59c99",
      "b82199ebf94b41569ee22b502682b504",
      "c2168bbec2854b099cf687a11bf12b49",
      "9a2b3d73765a4653abf341547265d4e1",
      "78014b5232cb46539cfeaa9e983e0345",
      "1072e684c8d546ddb3a7195a0bbd60d6",
      "b9ea4983c60c4782ae15e94bbf3c60d9",
      "a910b3bcf4764ecb9585d72ec5add68d",
      "cadad97cd91e45ebbd43bca06057f0be",
      "29597fd960ba4e539b46bfe281fc10b8",
      "e43a8c6629704b609e0e2bded71968a6",
      "0815d257080742da99f8d5686f82a0d2",
      "c4401f62ac09465386e81a398e3d8078"
     ]
    },
    "executionInfo": {
     "elapsed": 364632,
     "status": "ok",
     "timestamp": 1606486730029,
     "user": {
      "displayName": "Zeeshan Haque Syed",
      "photoUrl": "https://lh3.googleusercontent.com/a-/AOh14Gif2XfGMeXvn2IzSb5CFsuXqUPqJy0rCnsOi2Nm=s64",
      "userId": "08761780578614293800"
     },
     "user_tz": -60
    },
    "id": "Fs45vJ5wcq82",
    "outputId": "46081aea-4bba-4b29-8698-575aece2b1b5"
   },
   "outputs": [],
   "source": [
    "dp_retriever = DensePassageRetriever(document_store=document_store_dpr,\n",
    "                                  query_embedding_model=\"facebook/dpr-question_encoder-single-nq-base\",\n",
    "                                  passage_embedding_model=\"facebook/dpr-ctx_encoder-single-nq-base\",\n",
    "                                  use_gpu=True,\n",
    "                                  embed_title=True,\n",
    "                                  batch_size=16)\n",
    "document_store_dpr.update_embeddings(dp_retriever, index=doc_index)"
   ]
  },
  {
   "cell_type": "code",
   "execution_count": null,
   "metadata": {
    "executionInfo": {
     "elapsed": 819,
     "status": "ok",
     "timestamp": 1606665688769,
     "user": {
      "displayName": "Zeeshan Haque Syed",
      "photoUrl": "https://lh3.googleusercontent.com/a-/AOh14Gif2XfGMeXvn2IzSb5CFsuXqUPqJy0rCnsOi2Nm=s64",
      "userId": "08761780578614293800"
     },
     "user_tz": -60
    },
    "id": "-OP5gUbdc_XL"
   },
   "outputs": [],
   "source": [
    "es_retriever = ElasticsearchRetriever(document_store=document_store)"
   ]
  },
  {
   "cell_type": "code",
   "execution_count": null,
   "metadata": {
    "colab": {
     "base_uri": "https://localhost:8080/",
     "height": 690,
     "referenced_widgets": [
      "e9f475d01a834195acaf406c008beb30",
      "438498e1b7b94f4cabb49ac5382228f9",
      "7ce6b3b34964438f85be12f5d28ba76a",
      "3e1ede1985d24ebab52429a1df188e2c",
      "6b65a522fa034bc2bdc813fc83d13448",
      "11a4e625addd4b708c08624d0a0d9626",
      "c7aef6a47fc34cc0b245185883d5a618",
      "72416fba59484e9b99ce7954b469874e",
      "cc9b774bedd74ea8a0ec968c32cadb19",
      "55eb8400ead24cb79bf5ac9bbd19fcef",
      "77ab78ceacc346e399fb6e455189a0ee",
      "16556c23c925479d924a6320f167a654",
      "b5891562f8694a9896da46ad10c9d5a2",
      "1c6ee52e38af407dbc67594d95139af2",
      "526ee04e57cd41ef823ca839eded7b2c",
      "fdddde99bb9b442f85d744cde2679d16",
      "0f63e7bcbce8460e996acc0fc00f9525",
      "ef21e0b751264c408d7ed24c9be8982a",
      "12bf5f4a286d42a48d101c4bfe172637",
      "65f0869573dd46a6b77e365d337c3ae0",
      "417638431e6e4a6b9ec843ce9f5ee886",
      "a78226a161314919833a7a8f27c90edb",
      "9747f3f3bfc74804aaad81309b0544d4",
      "ed15786151f547f397b3c0f2ad0da85a",
      "b16bd52447c94f22b2c3a051eb7ae2a0",
      "371bf892a051402eb8db5fa19ce7e1b4",
      "b2e1eff278274e80a1ede6bbb05584ab",
      "0eecf2e35829426698a5d11b250f0fe9",
      "ceedfc35225d44c5b43f272c605c9963",
      "e4c929ebd9ce43d6993b11f424cfb2e7",
      "ebe4f721a419434eb0892b7b6570bff6",
      "b3794a5381614dab88aa891294e45528",
      "2dba41ecfb864ca1abfe7ee2f6dac66b",
      "e3e82539d34a45ec85ccee61b9726cdf",
      "a7aed6ecd45243859d21155ccbab5d2c",
      "349d3c828a134fdaac4fb71a4bcd1e60",
      "cd5c52c1c74941e09aef0454da2c9bab",
      "41233fc55dad48f3802d3c6c664e3b33",
      "22da8bc89bf3403c8865ec41b3d3e60b",
      "d226fbf41f6143cbbfef9df92762dda4"
     ]
    },
    "executionInfo": {
     "elapsed": 32370,
     "status": "ok",
     "timestamp": 1600091423474,
     "user": {
      "displayName": "Zeeshan Haque Syed",
      "photoUrl": "https://lh3.googleusercontent.com/a-/AOh14Gif2XfGMeXvn2IzSb5CFsuXqUPqJy0rCnsOi2Nm=s64",
      "userId": "08761780578614293800"
     },
     "user_tz": -120
    },
    "id": "_WMJ5jGidslJ",
    "outputId": "2751e9c1-8d5f-4e8c-d403-69bcb3babac3"
   },
   "outputs": [],
   "source": [
    "embedded_retriever_farm = EmbeddingRetriever(document_store=document_store,\n",
    "                               embedding_model=\"deepset/sentence_bert\",\n",
    "                               model_format=\"farm\")\n",
    "embedded_retriever_trans = EmbeddingRetriever(document_store=document_store,\n",
    "                               embedding_model=\"deepset/sentence_bert\",\n",
    "                               model_format=\"transformers\")"
   ]
  },
  {
   "cell_type": "code",
   "execution_count": null,
   "metadata": {
    "executionInfo": {
     "elapsed": 637,
     "status": "ok",
     "timestamp": 1606665699574,
     "user": {
      "displayName": "Zeeshan Haque Syed",
      "photoUrl": "https://lh3.googleusercontent.com/a-/AOh14Gif2XfGMeXvn2IzSb5CFsuXqUPqJy0rCnsOi2Nm=s64",
      "userId": "08761780578614293800"
     },
     "user_tz": -60
    },
    "id": "wafOUIbGVbaj"
   },
   "outputs": [],
   "source": [
    "# Initialize Reader\n",
    "from haystack.reader.farm import FARMReader"
   ]
  },
  {
   "cell_type": "code",
   "execution_count": null,
   "metadata": {
    "colab": {
     "base_uri": "https://localhost:8080/"
    },
    "executionInfo": {
     "elapsed": 25730,
     "status": "ok",
     "timestamp": 1606666231066,
     "user": {
      "displayName": "Zeeshan Haque Syed",
      "photoUrl": "https://lh3.googleusercontent.com/a-/AOh14Gif2XfGMeXvn2IzSb5CFsuXqUPqJy0rCnsOi2Nm=s64",
      "userId": "08761780578614293800"
     },
     "user_tz": -60
    },
    "id": "kCoB5D45efK_",
    "outputId": "ce1498a3-3b58-4cab-9857-a4ad09a37eb1"
   },
   "outputs": [],
   "source": [
    "custom_farm_model_minilm = FARMReader(model_name_or_path=\"/content/drive/MyDrive/my_model_lm_mini\", top_k_per_candidate=4,use_gpu=True)"
   ]
  },
  {
   "cell_type": "code",
   "execution_count": null,
   "metadata": {
    "executionInfo": {
     "elapsed": 672,
     "status": "ok",
     "timestamp": 1606666257618,
     "user": {
      "displayName": "Zeeshan Haque Syed",
      "photoUrl": "https://lh3.googleusercontent.com/a-/AOh14Gif2XfGMeXvn2IzSb5CFsuXqUPqJy0rCnsOi2Nm=s64",
      "userId": "08761780578614293800"
     },
     "user_tz": -60
    },
    "id": "mrP51YszVfDc"
   },
   "outputs": [],
   "source": [
    "# Initialize Finder which sticks together Reader and Retriever\n",
    "from haystack.finder import Finder\n",
    "\n",
    "#finder = Finder(reader, retriever)"
   ]
  },
  {
   "cell_type": "markdown",
   "metadata": {},
   "source": [
    "## Evaluation of Reader"
   ]
  },
  {
   "cell_type": "code",
   "execution_count": null,
   "metadata": {
    "executionInfo": {
     "elapsed": 794,
     "status": "ok",
     "timestamp": 1606666263202,
     "user": {
      "displayName": "Zeeshan Haque Syed",
      "photoUrl": "https://lh3.googleusercontent.com/a-/AOh14Gif2XfGMeXvn2IzSb5CFsuXqUPqJy0rCnsOi2Nm=s64",
      "userId": "08761780578614293800"
     },
     "user_tz": -60
    },
    "id": "ezGZHh7zhofS"
   },
   "outputs": [],
   "source": [
    "#Function to get evaluation result for a Retriever\n",
    "def get_retriever_eval_results(retriever_obj,top_k_var,label_index_var,doc_index_var):\n",
    "    retriever_eval_results = retriever_obj.eval(top_k=top_k_var, label_index=label_index_var, doc_index=doc_index_var)\n",
    "    return retriever_eval_results"
   ]
  },
  {
   "cell_type": "code",
   "execution_count": null,
   "metadata": {
    "colab": {
     "base_uri": "https://localhost:8080/",
     "height": 323
    },
    "executionInfo": {
     "elapsed": 104385,
     "status": "ok",
     "timestamp": 1600184840346,
     "user": {
      "displayName": "Zeeshan Haque Syed",
      "photoUrl": "https://lh3.googleusercontent.com/a-/AOh14Gif2XfGMeXvn2IzSb5CFsuXqUPqJy0rCnsOi2Nm=s64",
      "userId": "08761780578614293800"
     },
     "user_tz": -120
    },
    "id": "I-Ns9rdYV0LU",
    "outputId": "861ca1d6-94c5-4df2-f513-4fd205bc11b7"
   },
   "outputs": [],
   "source": [
    "reader_eval_results_minilm = custom_farm_model_minilm.eval(document_store=document_store, device=device, label_index=label_index, doc_index=doc_index)\n",
    "## Reader Top-N-Accuracy is the proportion of predicted answers that match with their corresponding correct answer\n",
    "print(\"Reader Top-N-Accuracy:\", reader_eval_results_minilm[\"top_n_accuracy\"])\n",
    "## Reader Exact Match is the proportion of questions where the predicted answer is exactly the same as the correct answer\n",
    "print(\"Reader Exact Match:\", reader_eval_results_minilm[\"EM\"])\n",
    "## Reader F1-Score is the average overlap between the predicted answers and the correct answers\n",
    "print(\"Reader F1-Score:\", reader_eval_results_minilm[\"f1\"])"
   ]
  },
  {
   "cell_type": "markdown",
   "metadata": {},
   "source": [
    "## Evaluation of Retriever.\n",
    "\n",
    "- We are evaluating 4 kinds of Retriever on our Evaluation Data."
   ]
  },
  {
   "cell_type": "code",
   "execution_count": null,
   "metadata": {
    "executionInfo": {
     "elapsed": 458,
     "status": "ok",
     "timestamp": 1606666266496,
     "user": {
      "displayName": "Zeeshan Haque Syed",
      "photoUrl": "https://lh3.googleusercontent.com/a-/AOh14Gif2XfGMeXvn2IzSb5CFsuXqUPqJy0rCnsOi2Nm=s64",
      "userId": "08761780578614293800"
     },
     "user_tz": -60
    },
    "id": "ehfVadDthpQe"
   },
   "outputs": [],
   "source": [
    "#Function to get evaluation result for a Reader\n",
    "def get_reader_eval_results(reader_obj,document_store_obj,device_var,label_index_var,doc_index_var):\n",
    "    reader_eval_results = reader_obj.eval(document_store=document_store_obj, device=device_var, label_index=label_index_var, doc_index=label_index_var)\n",
    "    return reader_eval_results"
   ]
  },
  {
   "cell_type": "code",
   "execution_count": null,
   "metadata": {
    "colab": {
     "base_uri": "https://localhost:8080/"
    },
    "executionInfo": {
     "elapsed": 42111,
     "status": "ok",
     "timestamp": 1606486772196,
     "user": {
      "displayName": "Zeeshan Haque Syed",
      "photoUrl": "https://lh3.googleusercontent.com/a-/AOh14Gif2XfGMeXvn2IzSb5CFsuXqUPqJy0rCnsOi2Nm=s64",
      "userId": "08761780578614293800"
     },
     "user_tz": -60
    },
    "id": "5qsP-xKdhu76",
    "outputId": "745daff4-f46b-43b0-b860-e684df3c03ef"
   },
   "outputs": [],
   "source": [
    "#Evaluation for ElasticSearch Retriever \n",
    "get_retriever_eval_results(es_retriever,5,label_index,doc_index)"
   ]
  },
  {
   "cell_type": "code",
   "execution_count": null,
   "metadata": {
    "colab": {
     "base_uri": "https://localhost:8080/"
    },
    "executionInfo": {
     "elapsed": 71622,
     "status": "ok",
     "timestamp": 1606486801712,
     "user": {
      "displayName": "Zeeshan Haque Syed",
      "photoUrl": "https://lh3.googleusercontent.com/a-/AOh14Gif2XfGMeXvn2IzSb5CFsuXqUPqJy0rCnsOi2Nm=s64",
      "userId": "08761780578614293800"
     },
     "user_tz": -60
    },
    "id": "X1qp6OutiARP",
    "outputId": "10c2e30a-dfed-4bc4-97d5-f63eb06a7518"
   },
   "outputs": [],
   "source": [
    "#Evaluation for Dense Passage Retriever \n",
    "get_retriever_eval_results(dp_retriever,5,label_index,doc_index)"
   ]
  },
  {
   "cell_type": "code",
   "execution_count": null,
   "metadata": {
    "colab": {
     "base_uri": "https://localhost:8080/",
     "height": 1000
    },
    "executionInfo": {
     "elapsed": 14107,
     "status": "ok",
     "timestamp": 1599250549718,
     "user": {
      "displayName": "Zeeshan Haque Syed",
      "photoUrl": "https://lh3.googleusercontent.com/a-/AOh14Gif2XfGMeXvn2IzSb5CFsuXqUPqJy0rCnsOi2Nm=s64",
      "userId": "08761780578614293800"
     },
     "user_tz": -120
    },
    "id": "1WVALeXGiJVo",
    "outputId": "bcab123b-9751-4ac1-9d98-3bfa779838f7"
   },
   "outputs": [],
   "source": [
    "#Evaluation for Embedded Retriever (FARM)\n",
    "get_retriever_eval_results(embedded_retriever_farm,5,label_index,doc_index)"
   ]
  },
  {
   "cell_type": "code",
   "execution_count": null,
   "metadata": {
    "colab": {
     "base_uri": "https://localhost:8080/",
     "height": 1000
    },
    "executionInfo": {
     "elapsed": 14372,
     "status": "ok",
     "timestamp": 1599250791547,
     "user": {
      "displayName": "Zeeshan Haque Syed",
      "photoUrl": "https://lh3.googleusercontent.com/a-/AOh14Gif2XfGMeXvn2IzSb5CFsuXqUPqJy0rCnsOi2Nm=s64",
      "userId": "08761780578614293800"
     },
     "user_tz": -120
    },
    "id": "jZ1-c9EXmns-",
    "outputId": "f4c36b8c-167d-4d41-91ed-0ed42386e5bf"
   },
   "outputs": [],
   "source": [
    "#Evaluation for Embedded Retriever (Transformer)\n",
    "get_retriever_eval_results(embedded_retriever_trans,5,label_index,doc_index)"
   ]
  },
  {
   "cell_type": "markdown",
   "metadata": {},
   "source": [
    "## Evaluation of Finder (Reader+Retriever)"
   ]
  },
  {
   "cell_type": "code",
   "execution_count": null,
   "metadata": {
    "colab": {
     "base_uri": "https://localhost:8080/"
    },
    "executionInfo": {
     "elapsed": 948,
     "status": "ok",
     "timestamp": 1606667067339,
     "user": {
      "displayName": "Zeeshan Haque Syed",
      "photoUrl": "https://lh3.googleusercontent.com/a-/AOh14Gif2XfGMeXvn2IzSb5CFsuXqUPqJy0rCnsOi2Nm=s64",
      "userId": "08761780578614293800"
     },
     "user_tz": -60
    },
    "id": "Vg9kvOuV3gl7",
    "outputId": "4baf86d7-2afb-4569-9f3d-12be0f62e416"
   },
   "outputs": [],
   "source": [
    "finder00 = Finder(custom_farm_model_minilm, es_retriever)\n",
    "finder01 = Finder(custom_farm_model_minilm, dp_retriever)"
   ]
  },
  {
   "cell_type": "code",
   "execution_count": null,
   "metadata": {
    "id": "8G9OAIrB78Zp"
   },
   "outputs": [],
   "source": [
    "def create_finder_obj(reader_obj,retriever_obj):\n",
    "    return Finder(reader_obj,retriever_obj)"
   ]
  },
  {
   "cell_type": "code",
   "execution_count": null,
   "metadata": {
    "id": "uu2Qyy9m9Vob"
   },
   "outputs": [],
   "source": [
    "def calc_finder_eval(finder_obj):\n",
    "    finder_eval_results = finder_obj.eval(top_k_retriever=10, top_k_reader=5, label_index=label_index, doc_index=doc_index)\n",
    "    finder_obj.print_eval_results(finder_eval_results)\n",
    "    return finder_eval_results"
   ]
  },
  {
   "cell_type": "code",
   "execution_count": null,
   "metadata": {
    "colab": {
     "base_uri": "https://localhost:8080/"
    },
    "executionInfo": {
     "elapsed": 8202243,
     "status": "ok",
     "timestamp": 1606418088757,
     "user": {
      "displayName": "Zeeshan Haque Syed",
      "photoUrl": "https://lh3.googleusercontent.com/a-/AOh14Gif2XfGMeXvn2IzSb5CFsuXqUPqJy0rCnsOi2Nm=s64",
      "userId": "08761780578614293800"
     },
     "user_tz": -60
    },
    "id": "1O1FsEQndex8",
    "outputId": "5da360e6-ca42-4838-9dc9-165a070168ac"
   },
   "outputs": [],
   "source": [
    "#Evaluation of minilm +  ElasticSearch Retriever with top-k-retriver = 10 and top-k-reader = 5\n",
    "finder_eval_results001 = finder00.eval(top_k_retriever=10, top_k_reader=5, label_index=label_index, doc_index=doc_index)\n",
    "finder00.print_eval_results(finder_eval_results001)"
   ]
  },
  {
   "cell_type": "code",
   "execution_count": null,
   "metadata": {
    "colab": {
     "base_uri": "https://localhost:8080/"
    },
    "executionInfo": {
     "elapsed": 8611232,
     "status": "ok",
     "timestamp": 1606426703919,
     "user": {
      "displayName": "Zeeshan Haque Syed",
      "photoUrl": "https://lh3.googleusercontent.com/a-/AOh14Gif2XfGMeXvn2IzSb5CFsuXqUPqJy0rCnsOi2Nm=s64",
      "userId": "08761780578614293800"
     },
     "user_tz": -60
    },
    "id": "ZR3UbzS0djlX",
    "outputId": "6cf85a44-e1a4-4d27-c0c5-1b66cf59d2a3"
   },
   "outputs": [],
   "source": [
    "#Evaluation of minilm +  ElasticSearch Retriever with top-k-retriver = 10 and top-k-reader = 3\n",
    "finder_eval_results002 = finder00.eval(top_k_retriever=10, top_k_reader=3, label_index=label_index, doc_index=doc_index)\n",
    "finder00.print_eval_results(finder_eval_results002)"
   ]
  },
  {
   "cell_type": "code",
   "execution_count": null,
   "metadata": {
    "colab": {
     "base_uri": "https://localhost:8080/"
    },
    "executionInfo": {
     "elapsed": 2940495,
     "status": "ok",
     "timestamp": 1606670016205,
     "user": {
      "displayName": "Zeeshan Haque Syed",
      "photoUrl": "https://lh3.googleusercontent.com/a-/AOh14Gif2XfGMeXvn2IzSb5CFsuXqUPqJy0rCnsOi2Nm=s64",
      "userId": "08761780578614293800"
     },
     "user_tz": -60
    },
    "id": "5BlaMLx6dkE9",
    "outputId": "7eb0b814-d577-4b2e-9210-450c87376e92"
   },
   "outputs": [],
   "source": [
    "#Evaluation of minilm +  ElasticSearch Retriever with top-k-retriver = 5 and top-k-reader = 3\n",
    "finder_eval_results003 = finder00.eval(top_k_retriever=5, top_k_reader=3, label_index=label_index, doc_index=doc_index)\n",
    "finder00.print_eval_results(finder_eval_results003)"
   ]
  },
  {
   "cell_type": "code",
   "execution_count": null,
   "metadata": {
    "colab": {
     "base_uri": "https://localhost:8080/"
    },
    "executionInfo": {
     "elapsed": 4375979,
     "status": "ok",
     "timestamp": 1606481784517,
     "user": {
      "displayName": "Zeeshan Haque Syed",
      "photoUrl": "https://lh3.googleusercontent.com/a-/AOh14Gif2XfGMeXvn2IzSb5CFsuXqUPqJy0rCnsOi2Nm=s64",
      "userId": "08761780578614293800"
     },
     "user_tz": -60
    },
    "id": "vrhhjO7kd1IN",
    "outputId": "2ffda85a-d25f-4361-dec0-0f3ea5ff0d5c"
   },
   "outputs": [],
   "source": [
    "#Evaluation of minilm +  Dense Passage Retriever with top-k-retriver = 10 and top-k-reader = 5\n",
    "finder_eval_results011 = finder01.eval(top_k_retriever=10, top_k_reader=5, label_index=label_index, doc_index=doc_index)\n",
    "finder01.print_eval_results(finder_eval_results011)"
   ]
  },
  {
   "cell_type": "code",
   "execution_count": null,
   "metadata": {
    "id": "5eCIotCsd6Ht"
   },
   "outputs": [],
   "source": [
    "#Evaluation of minilm +  Dense Passage Retriever with top-k-retriver = 10 and top-k-reader = 3\n",
    "finder_eval_results012 = finder01.eval(top_k_retriever=10, top_k_reader=3, label_index=label_index, doc_index=doc_index)\n",
    "finder01.print_eval_results(finder_eval_results012)"
   ]
  },
  {
   "cell_type": "code",
   "execution_count": null,
   "metadata": {
    "id": "VaiLGSltd7ks"
   },
   "outputs": [],
   "source": [
    "#Evaluation of minilm +  Dense Passage Retriever with top-k-retriver = 5 and top-k-reader = 3\n",
    "finder_eval_results013 = finder01.eval(top_k_retriever=5, top_k_reader=3, label_index=label_index, doc_index=doc_index)\n",
    "finder01.print_eval_results(finder_eval_results013)"
   ]
  }
 ],
 "metadata": {
  "accelerator": "GPU",
  "colab": {
   "authorship_tag": "ABX9TyNf3jSE9ohYa7t39+oDpwY7",
   "collapsed_sections": [],
   "mount_file_id": "17-UrfhtyjZL2xX39wJr2Yg8edFF69XYg",
   "name": "Evaluation_fine_tuning_nov2020_v2.ipynb",
   "provenance": []
  },
  "kernelspec": {
   "display_name": "Python 3",
   "language": "python",
   "name": "python3"
  },
  "language_info": {
   "codemirror_mode": {
    "name": "ipython",
    "version": 3
   },
   "file_extension": ".py",
   "mimetype": "text/x-python",
   "name": "python",
   "nbconvert_exporter": "python",
   "pygments_lexer": "ipython3",
   "version": "3.7.3"
  },
  "widgets": {
   "application/vnd.jupyter.widget-state+json": {
    "0815d257080742da99f8d5686f82a0d2": {
     "model_module": "@jupyter-widgets/base",
     "model_name": "LayoutModel",
     "state": {
      "_model_module": "@jupyter-widgets/base",
      "_model_module_version": "1.2.0",
      "_model_name": "LayoutModel",
      "_view_count": null,
      "_view_module": "@jupyter-widgets/base",
      "_view_module_version": "1.2.0",
      "_view_name": "LayoutView",
      "align_content": null,
      "align_items": null,
      "align_self": null,
      "border": null,
      "bottom": null,
      "display": null,
      "flex": null,
      "flex_flow": null,
      "grid_area": null,
      "grid_auto_columns": null,
      "grid_auto_flow": null,
      "grid_auto_rows": null,
      "grid_column": null,
      "grid_gap": null,
      "grid_row": null,
      "grid_template_areas": null,
      "grid_template_columns": null,
      "grid_template_rows": null,
      "height": null,
      "justify_content": null,
      "justify_items": null,
      "left": null,
      "margin": null,
      "max_height": null,
      "max_width": null,
      "min_height": null,
      "min_width": null,
      "object_fit": null,
      "object_position": null,
      "order": null,
      "overflow": null,
      "overflow_x": null,
      "overflow_y": null,
      "padding": null,
      "right": null,
      "top": null,
      "visibility": null,
      "width": null
     }
    },
    "09248c194be54ce09dc7f5390ba39fdc": {
     "model_module": "@jupyter-widgets/controls",
     "model_name": "HBoxModel",
     "state": {
      "_dom_classes": [],
      "_model_module": "@jupyter-widgets/controls",
      "_model_module_version": "1.5.0",
      "_model_name": "HBoxModel",
      "_view_count": null,
      "_view_module": "@jupyter-widgets/controls",
      "_view_module_version": "1.5.0",
      "_view_name": "HBoxView",
      "box_style": "",
      "children": [
       "IPY_MODEL_72ad675afcd34aaba0acd57138819f61",
       "IPY_MODEL_b77e4ef943d34f8a855d5d0187ecf5cf"
      ],
      "layout": "IPY_MODEL_d6a3aed9750a4991a2c1bc4645e59c99"
     }
    },
    "0eecf2e35829426698a5d11b250f0fe9": {
     "model_module": "@jupyter-widgets/base",
     "model_name": "LayoutModel",
     "state": {
      "_model_module": "@jupyter-widgets/base",
      "_model_module_version": "1.2.0",
      "_model_name": "LayoutModel",
      "_view_count": null,
      "_view_module": "@jupyter-widgets/base",
      "_view_module_version": "1.2.0",
      "_view_name": "LayoutView",
      "align_content": null,
      "align_items": null,
      "align_self": null,
      "border": null,
      "bottom": null,
      "display": null,
      "flex": null,
      "flex_flow": null,
      "grid_area": null,
      "grid_auto_columns": null,
      "grid_auto_flow": null,
      "grid_auto_rows": null,
      "grid_column": null,
      "grid_gap": null,
      "grid_row": null,
      "grid_template_areas": null,
      "grid_template_columns": null,
      "grid_template_rows": null,
      "height": null,
      "justify_content": null,
      "justify_items": null,
      "left": null,
      "margin": null,
      "max_height": null,
      "max_width": null,
      "min_height": null,
      "min_width": null,
      "object_fit": null,
      "object_position": null,
      "order": null,
      "overflow": null,
      "overflow_x": null,
      "overflow_y": null,
      "padding": null,
      "right": null,
      "top": null,
      "visibility": null,
      "width": null
     }
    },
    "0ef6a6e9acb745ee91c880cf8c8fd488": {
     "model_module": "@jupyter-widgets/base",
     "model_name": "LayoutModel",
     "state": {
      "_model_module": "@jupyter-widgets/base",
      "_model_module_version": "1.2.0",
      "_model_name": "LayoutModel",
      "_view_count": null,
      "_view_module": "@jupyter-widgets/base",
      "_view_module_version": "1.2.0",
      "_view_name": "LayoutView",
      "align_content": null,
      "align_items": null,
      "align_self": null,
      "border": null,
      "bottom": null,
      "display": null,
      "flex": null,
      "flex_flow": null,
      "grid_area": null,
      "grid_auto_columns": null,
      "grid_auto_flow": null,
      "grid_auto_rows": null,
      "grid_column": null,
      "grid_gap": null,
      "grid_row": null,
      "grid_template_areas": null,
      "grid_template_columns": null,
      "grid_template_rows": null,
      "height": null,
      "justify_content": null,
      "justify_items": null,
      "left": null,
      "margin": null,
      "max_height": null,
      "max_width": null,
      "min_height": null,
      "min_width": null,
      "object_fit": null,
      "object_position": null,
      "order": null,
      "overflow": null,
      "overflow_x": null,
      "overflow_y": null,
      "padding": null,
      "right": null,
      "top": null,
      "visibility": null,
      "width": null
     }
    },
    "0f63e7bcbce8460e996acc0fc00f9525": {
     "model_module": "@jupyter-widgets/controls",
     "model_name": "HBoxModel",
     "state": {
      "_dom_classes": [],
      "_model_module": "@jupyter-widgets/controls",
      "_model_module_version": "1.5.0",
      "_model_name": "HBoxModel",
      "_view_count": null,
      "_view_module": "@jupyter-widgets/controls",
      "_view_module_version": "1.5.0",
      "_view_name": "HBoxView",
      "box_style": "",
      "children": [
       "IPY_MODEL_ef21e0b751264c408d7ed24c9be8982a",
       "IPY_MODEL_12bf5f4a286d42a48d101c4bfe172637"
      ],
      "layout": "IPY_MODEL_65f0869573dd46a6b77e365d337c3ae0"
     }
    },
    "1072e684c8d546ddb3a7195a0bbd60d6": {
     "model_module": "@jupyter-widgets/controls",
     "model_name": "HBoxModel",
     "state": {
      "_dom_classes": [],
      "_model_module": "@jupyter-widgets/controls",
      "_model_module_version": "1.5.0",
      "_model_name": "HBoxModel",
      "_view_count": null,
      "_view_module": "@jupyter-widgets/controls",
      "_view_module_version": "1.5.0",
      "_view_name": "HBoxView",
      "box_style": "",
      "children": [
       "IPY_MODEL_b9ea4983c60c4782ae15e94bbf3c60d9",
       "IPY_MODEL_a910b3bcf4764ecb9585d72ec5add68d"
      ],
      "layout": "IPY_MODEL_cadad97cd91e45ebbd43bca06057f0be"
     }
    },
    "11a4e625addd4b708c08624d0a0d9626": {
     "model_module": "@jupyter-widgets/controls",
     "model_name": "ProgressStyleModel",
     "state": {
      "_model_module": "@jupyter-widgets/controls",
      "_model_module_version": "1.5.0",
      "_model_name": "ProgressStyleModel",
      "_view_count": null,
      "_view_module": "@jupyter-widgets/base",
      "_view_module_version": "1.2.0",
      "_view_name": "StyleView",
      "bar_color": null,
      "description_width": "initial"
     }
    },
    "12bf5f4a286d42a48d101c4bfe172637": {
     "model_module": "@jupyter-widgets/controls",
     "model_name": "HTMLModel",
     "state": {
      "_dom_classes": [],
      "_model_module": "@jupyter-widgets/controls",
      "_model_module_version": "1.5.0",
      "_model_name": "HTMLModel",
      "_view_count": null,
      "_view_module": "@jupyter-widgets/controls",
      "_view_module_version": "1.5.0",
      "_view_name": "HTMLView",
      "description": "",
      "description_tooltip": null,
      "layout": "IPY_MODEL_9747f3f3bfc74804aaad81309b0544d4",
      "placeholder": "​",
      "style": "IPY_MODEL_ed15786151f547f397b3c0f2ad0da85a",
      "value": " 232k/232k [00:05&lt;00:00, 43.2kB/s]"
     }
    },
    "16556c23c925479d924a6320f167a654": {
     "model_module": "@jupyter-widgets/base",
     "model_name": "LayoutModel",
     "state": {
      "_model_module": "@jupyter-widgets/base",
      "_model_module_version": "1.2.0",
      "_model_name": "LayoutModel",
      "_view_count": null,
      "_view_module": "@jupyter-widgets/base",
      "_view_module_version": "1.2.0",
      "_view_name": "LayoutView",
      "align_content": null,
      "align_items": null,
      "align_self": null,
      "border": null,
      "bottom": null,
      "display": null,
      "flex": null,
      "flex_flow": null,
      "grid_area": null,
      "grid_auto_columns": null,
      "grid_auto_flow": null,
      "grid_auto_rows": null,
      "grid_column": null,
      "grid_gap": null,
      "grid_row": null,
      "grid_template_areas": null,
      "grid_template_columns": null,
      "grid_template_rows": null,
      "height": null,
      "justify_content": null,
      "justify_items": null,
      "left": null,
      "margin": null,
      "max_height": null,
      "max_width": null,
      "min_height": null,
      "min_width": null,
      "object_fit": null,
      "object_position": null,
      "order": null,
      "overflow": null,
      "overflow_x": null,
      "overflow_y": null,
      "padding": null,
      "right": null,
      "top": null,
      "visibility": null,
      "width": null
     }
    },
    "1c6ee52e38af407dbc67594d95139af2": {
     "model_module": "@jupyter-widgets/controls",
     "model_name": "ProgressStyleModel",
     "state": {
      "_model_module": "@jupyter-widgets/controls",
      "_model_module_version": "1.5.0",
      "_model_name": "ProgressStyleModel",
      "_view_count": null,
      "_view_module": "@jupyter-widgets/base",
      "_view_module_version": "1.2.0",
      "_view_name": "StyleView",
      "bar_color": null,
      "description_width": "initial"
     }
    },
    "1e586b245b7e47b1972016e0eee40141": {
     "model_module": "@jupyter-widgets/base",
     "model_name": "LayoutModel",
     "state": {
      "_model_module": "@jupyter-widgets/base",
      "_model_module_version": "1.2.0",
      "_model_name": "LayoutModel",
      "_view_count": null,
      "_view_module": "@jupyter-widgets/base",
      "_view_module_version": "1.2.0",
      "_view_name": "LayoutView",
      "align_content": null,
      "align_items": null,
      "align_self": null,
      "border": null,
      "bottom": null,
      "display": null,
      "flex": null,
      "flex_flow": null,
      "grid_area": null,
      "grid_auto_columns": null,
      "grid_auto_flow": null,
      "grid_auto_rows": null,
      "grid_column": null,
      "grid_gap": null,
      "grid_row": null,
      "grid_template_areas": null,
      "grid_template_columns": null,
      "grid_template_rows": null,
      "height": null,
      "justify_content": null,
      "justify_items": null,
      "left": null,
      "margin": null,
      "max_height": null,
      "max_width": null,
      "min_height": null,
      "min_width": null,
      "object_fit": null,
      "object_position": null,
      "order": null,
      "overflow": null,
      "overflow_x": null,
      "overflow_y": null,
      "padding": null,
      "right": null,
      "top": null,
      "visibility": null,
      "width": null
     }
    },
    "22da8bc89bf3403c8865ec41b3d3e60b": {
     "model_module": "@jupyter-widgets/base",
     "model_name": "LayoutModel",
     "state": {
      "_model_module": "@jupyter-widgets/base",
      "_model_module_version": "1.2.0",
      "_model_name": "LayoutModel",
      "_view_count": null,
      "_view_module": "@jupyter-widgets/base",
      "_view_module_version": "1.2.0",
      "_view_name": "LayoutView",
      "align_content": null,
      "align_items": null,
      "align_self": null,
      "border": null,
      "bottom": null,
      "display": null,
      "flex": null,
      "flex_flow": null,
      "grid_area": null,
      "grid_auto_columns": null,
      "grid_auto_flow": null,
      "grid_auto_rows": null,
      "grid_column": null,
      "grid_gap": null,
      "grid_row": null,
      "grid_template_areas": null,
      "grid_template_columns": null,
      "grid_template_rows": null,
      "height": null,
      "justify_content": null,
      "justify_items": null,
      "left": null,
      "margin": null,
      "max_height": null,
      "max_width": null,
      "min_height": null,
      "min_width": null,
      "object_fit": null,
      "object_position": null,
      "order": null,
      "overflow": null,
      "overflow_x": null,
      "overflow_y": null,
      "padding": null,
      "right": null,
      "top": null,
      "visibility": null,
      "width": null
     }
    },
    "2336117ebb6b45b5a1a1fe20222e213c": {
     "model_module": "@jupyter-widgets/base",
     "model_name": "LayoutModel",
     "state": {
      "_model_module": "@jupyter-widgets/base",
      "_model_module_version": "1.2.0",
      "_model_name": "LayoutModel",
      "_view_count": null,
      "_view_module": "@jupyter-widgets/base",
      "_view_module_version": "1.2.0",
      "_view_name": "LayoutView",
      "align_content": null,
      "align_items": null,
      "align_self": null,
      "border": null,
      "bottom": null,
      "display": null,
      "flex": null,
      "flex_flow": null,
      "grid_area": null,
      "grid_auto_columns": null,
      "grid_auto_flow": null,
      "grid_auto_rows": null,
      "grid_column": null,
      "grid_gap": null,
      "grid_row": null,
      "grid_template_areas": null,
      "grid_template_columns": null,
      "grid_template_rows": null,
      "height": null,
      "justify_content": null,
      "justify_items": null,
      "left": null,
      "margin": null,
      "max_height": null,
      "max_width": null,
      "min_height": null,
      "min_width": null,
      "object_fit": null,
      "object_position": null,
      "order": null,
      "overflow": null,
      "overflow_x": null,
      "overflow_y": null,
      "padding": null,
      "right": null,
      "top": null,
      "visibility": null,
      "width": null
     }
    },
    "29597fd960ba4e539b46bfe281fc10b8": {
     "model_module": "@jupyter-widgets/base",
     "model_name": "LayoutModel",
     "state": {
      "_model_module": "@jupyter-widgets/base",
      "_model_module_version": "1.2.0",
      "_model_name": "LayoutModel",
      "_view_count": null,
      "_view_module": "@jupyter-widgets/base",
      "_view_module_version": "1.2.0",
      "_view_name": "LayoutView",
      "align_content": null,
      "align_items": null,
      "align_self": null,
      "border": null,
      "bottom": null,
      "display": null,
      "flex": null,
      "flex_flow": null,
      "grid_area": null,
      "grid_auto_columns": null,
      "grid_auto_flow": null,
      "grid_auto_rows": null,
      "grid_column": null,
      "grid_gap": null,
      "grid_row": null,
      "grid_template_areas": null,
      "grid_template_columns": null,
      "grid_template_rows": null,
      "height": null,
      "justify_content": null,
      "justify_items": null,
      "left": null,
      "margin": null,
      "max_height": null,
      "max_width": null,
      "min_height": null,
      "min_width": null,
      "object_fit": null,
      "object_position": null,
      "order": null,
      "overflow": null,
      "overflow_x": null,
      "overflow_y": null,
      "padding": null,
      "right": null,
      "top": null,
      "visibility": null,
      "width": null
     }
    },
    "2dba41ecfb864ca1abfe7ee2f6dac66b": {
     "model_module": "@jupyter-widgets/controls",
     "model_name": "HBoxModel",
     "state": {
      "_dom_classes": [],
      "_model_module": "@jupyter-widgets/controls",
      "_model_module_version": "1.5.0",
      "_model_name": "HBoxModel",
      "_view_count": null,
      "_view_module": "@jupyter-widgets/controls",
      "_view_module_version": "1.5.0",
      "_view_name": "HBoxView",
      "box_style": "",
      "children": [
       "IPY_MODEL_e3e82539d34a45ec85ccee61b9726cdf",
       "IPY_MODEL_a7aed6ecd45243859d21155ccbab5d2c"
      ],
      "layout": "IPY_MODEL_349d3c828a134fdaac4fb71a4bcd1e60"
     }
    },
    "349d3c828a134fdaac4fb71a4bcd1e60": {
     "model_module": "@jupyter-widgets/base",
     "model_name": "LayoutModel",
     "state": {
      "_model_module": "@jupyter-widgets/base",
      "_model_module_version": "1.2.0",
      "_model_name": "LayoutModel",
      "_view_count": null,
      "_view_module": "@jupyter-widgets/base",
      "_view_module_version": "1.2.0",
      "_view_name": "LayoutView",
      "align_content": null,
      "align_items": null,
      "align_self": null,
      "border": null,
      "bottom": null,
      "display": null,
      "flex": null,
      "flex_flow": null,
      "grid_area": null,
      "grid_auto_columns": null,
      "grid_auto_flow": null,
      "grid_auto_rows": null,
      "grid_column": null,
      "grid_gap": null,
      "grid_row": null,
      "grid_template_areas": null,
      "grid_template_columns": null,
      "grid_template_rows": null,
      "height": null,
      "justify_content": null,
      "justify_items": null,
      "left": null,
      "margin": null,
      "max_height": null,
      "max_width": null,
      "min_height": null,
      "min_width": null,
      "object_fit": null,
      "object_position": null,
      "order": null,
      "overflow": null,
      "overflow_x": null,
      "overflow_y": null,
      "padding": null,
      "right": null,
      "top": null,
      "visibility": null,
      "width": null
     }
    },
    "371bf892a051402eb8db5fa19ce7e1b4": {
     "model_module": "@jupyter-widgets/controls",
     "model_name": "FloatProgressModel",
     "state": {
      "_dom_classes": [],
      "_model_module": "@jupyter-widgets/controls",
      "_model_module_version": "1.5.0",
      "_model_name": "FloatProgressModel",
      "_view_count": null,
      "_view_module": "@jupyter-widgets/controls",
      "_view_module_version": "1.5.0",
      "_view_name": "ProgressView",
      "bar_style": "success",
      "description": "Downloading: 100%",
      "description_tooltip": null,
      "layout": "IPY_MODEL_ceedfc35225d44c5b43f272c605c9963",
      "max": 2,
      "min": 0,
      "orientation": "horizontal",
      "style": "IPY_MODEL_e4c929ebd9ce43d6993b11f424cfb2e7",
      "value": 2
     }
    },
    "38601493a7534672a9b688089e6df031": {
     "model_module": "@jupyter-widgets/base",
     "model_name": "LayoutModel",
     "state": {
      "_model_module": "@jupyter-widgets/base",
      "_model_module_version": "1.2.0",
      "_model_name": "LayoutModel",
      "_view_count": null,
      "_view_module": "@jupyter-widgets/base",
      "_view_module_version": "1.2.0",
      "_view_name": "LayoutView",
      "align_content": null,
      "align_items": null,
      "align_self": null,
      "border": null,
      "bottom": null,
      "display": null,
      "flex": null,
      "flex_flow": null,
      "grid_area": null,
      "grid_auto_columns": null,
      "grid_auto_flow": null,
      "grid_auto_rows": null,
      "grid_column": null,
      "grid_gap": null,
      "grid_row": null,
      "grid_template_areas": null,
      "grid_template_columns": null,
      "grid_template_rows": null,
      "height": null,
      "justify_content": null,
      "justify_items": null,
      "left": null,
      "margin": null,
      "max_height": null,
      "max_width": null,
      "min_height": null,
      "min_width": null,
      "object_fit": null,
      "object_position": null,
      "order": null,
      "overflow": null,
      "overflow_x": null,
      "overflow_y": null,
      "padding": null,
      "right": null,
      "top": null,
      "visibility": null,
      "width": null
     }
    },
    "3e1ede1985d24ebab52429a1df188e2c": {
     "model_module": "@jupyter-widgets/base",
     "model_name": "LayoutModel",
     "state": {
      "_model_module": "@jupyter-widgets/base",
      "_model_module_version": "1.2.0",
      "_model_name": "LayoutModel",
      "_view_count": null,
      "_view_module": "@jupyter-widgets/base",
      "_view_module_version": "1.2.0",
      "_view_name": "LayoutView",
      "align_content": null,
      "align_items": null,
      "align_self": null,
      "border": null,
      "bottom": null,
      "display": null,
      "flex": null,
      "flex_flow": null,
      "grid_area": null,
      "grid_auto_columns": null,
      "grid_auto_flow": null,
      "grid_auto_rows": null,
      "grid_column": null,
      "grid_gap": null,
      "grid_row": null,
      "grid_template_areas": null,
      "grid_template_columns": null,
      "grid_template_rows": null,
      "height": null,
      "justify_content": null,
      "justify_items": null,
      "left": null,
      "margin": null,
      "max_height": null,
      "max_width": null,
      "min_height": null,
      "min_width": null,
      "object_fit": null,
      "object_position": null,
      "order": null,
      "overflow": null,
      "overflow_x": null,
      "overflow_y": null,
      "padding": null,
      "right": null,
      "top": null,
      "visibility": null,
      "width": null
     }
    },
    "3e407f3f04294a12a3131c63bb3b3f4c": {
     "model_module": "@jupyter-widgets/controls",
     "model_name": "ProgressStyleModel",
     "state": {
      "_model_module": "@jupyter-widgets/controls",
      "_model_module_version": "1.5.0",
      "_model_name": "ProgressStyleModel",
      "_view_count": null,
      "_view_module": "@jupyter-widgets/base",
      "_view_module_version": "1.2.0",
      "_view_name": "StyleView",
      "bar_color": null,
      "description_width": "initial"
     }
    },
    "41233fc55dad48f3802d3c6c664e3b33": {
     "model_module": "@jupyter-widgets/controls",
     "model_name": "ProgressStyleModel",
     "state": {
      "_model_module": "@jupyter-widgets/controls",
      "_model_module_version": "1.5.0",
      "_model_name": "ProgressStyleModel",
      "_view_count": null,
      "_view_module": "@jupyter-widgets/base",
      "_view_module_version": "1.2.0",
      "_view_name": "StyleView",
      "bar_color": null,
      "description_width": "initial"
     }
    },
    "417638431e6e4a6b9ec843ce9f5ee886": {
     "model_module": "@jupyter-widgets/base",
     "model_name": "LayoutModel",
     "state": {
      "_model_module": "@jupyter-widgets/base",
      "_model_module_version": "1.2.0",
      "_model_name": "LayoutModel",
      "_view_count": null,
      "_view_module": "@jupyter-widgets/base",
      "_view_module_version": "1.2.0",
      "_view_name": "LayoutView",
      "align_content": null,
      "align_items": null,
      "align_self": null,
      "border": null,
      "bottom": null,
      "display": null,
      "flex": null,
      "flex_flow": null,
      "grid_area": null,
      "grid_auto_columns": null,
      "grid_auto_flow": null,
      "grid_auto_rows": null,
      "grid_column": null,
      "grid_gap": null,
      "grid_row": null,
      "grid_template_areas": null,
      "grid_template_columns": null,
      "grid_template_rows": null,
      "height": null,
      "justify_content": null,
      "justify_items": null,
      "left": null,
      "margin": null,
      "max_height": null,
      "max_width": null,
      "min_height": null,
      "min_width": null,
      "object_fit": null,
      "object_position": null,
      "order": null,
      "overflow": null,
      "overflow_x": null,
      "overflow_y": null,
      "padding": null,
      "right": null,
      "top": null,
      "visibility": null,
      "width": null
     }
    },
    "438498e1b7b94f4cabb49ac5382228f9": {
     "model_module": "@jupyter-widgets/controls",
     "model_name": "FloatProgressModel",
     "state": {
      "_dom_classes": [],
      "_model_module": "@jupyter-widgets/controls",
      "_model_module_version": "1.5.0",
      "_model_name": "FloatProgressModel",
      "_view_count": null,
      "_view_module": "@jupyter-widgets/controls",
      "_view_module_version": "1.5.0",
      "_view_name": "ProgressView",
      "bar_style": "success",
      "description": "Downloading: 100%",
      "description_tooltip": null,
      "layout": "IPY_MODEL_6b65a522fa034bc2bdc813fc83d13448",
      "max": 385,
      "min": 0,
      "orientation": "horizontal",
      "style": "IPY_MODEL_11a4e625addd4b708c08624d0a0d9626",
      "value": 385
     }
    },
    "4b0a91d869444dba96e0ffd6d161859b": {
     "model_module": "@jupyter-widgets/controls",
     "model_name": "HBoxModel",
     "state": {
      "_dom_classes": [],
      "_model_module": "@jupyter-widgets/controls",
      "_model_module_version": "1.5.0",
      "_model_name": "HBoxModel",
      "_view_count": null,
      "_view_module": "@jupyter-widgets/controls",
      "_view_module_version": "1.5.0",
      "_view_name": "HBoxView",
      "box_style": "",
      "children": [
       "IPY_MODEL_d44fb49a727f4fcbb2c855858b89cb5d",
       "IPY_MODEL_9f53ad1df4814be7aa03d76a36a7e4e8"
      ],
      "layout": "IPY_MODEL_b849e2397ff14e8991616f029c2cc59d"
     }
    },
    "4c7a46acc2944c1a931f2584a660bb31": {
     "model_module": "@jupyter-widgets/base",
     "model_name": "LayoutModel",
     "state": {
      "_model_module": "@jupyter-widgets/base",
      "_model_module_version": "1.2.0",
      "_model_name": "LayoutModel",
      "_view_count": null,
      "_view_module": "@jupyter-widgets/base",
      "_view_module_version": "1.2.0",
      "_view_name": "LayoutView",
      "align_content": null,
      "align_items": null,
      "align_self": null,
      "border": null,
      "bottom": null,
      "display": null,
      "flex": null,
      "flex_flow": null,
      "grid_area": null,
      "grid_auto_columns": null,
      "grid_auto_flow": null,
      "grid_auto_rows": null,
      "grid_column": null,
      "grid_gap": null,
      "grid_row": null,
      "grid_template_areas": null,
      "grid_template_columns": null,
      "grid_template_rows": null,
      "height": null,
      "justify_content": null,
      "justify_items": null,
      "left": null,
      "margin": null,
      "max_height": null,
      "max_width": null,
      "min_height": null,
      "min_width": null,
      "object_fit": null,
      "object_position": null,
      "order": null,
      "overflow": null,
      "overflow_x": null,
      "overflow_y": null,
      "padding": null,
      "right": null,
      "top": null,
      "visibility": null,
      "width": null
     }
    },
    "526ee04e57cd41ef823ca839eded7b2c": {
     "model_module": "@jupyter-widgets/base",
     "model_name": "LayoutModel",
     "state": {
      "_model_module": "@jupyter-widgets/base",
      "_model_module_version": "1.2.0",
      "_model_name": "LayoutModel",
      "_view_count": null,
      "_view_module": "@jupyter-widgets/base",
      "_view_module_version": "1.2.0",
      "_view_name": "LayoutView",
      "align_content": null,
      "align_items": null,
      "align_self": null,
      "border": null,
      "bottom": null,
      "display": null,
      "flex": null,
      "flex_flow": null,
      "grid_area": null,
      "grid_auto_columns": null,
      "grid_auto_flow": null,
      "grid_auto_rows": null,
      "grid_column": null,
      "grid_gap": null,
      "grid_row": null,
      "grid_template_areas": null,
      "grid_template_columns": null,
      "grid_template_rows": null,
      "height": null,
      "justify_content": null,
      "justify_items": null,
      "left": null,
      "margin": null,
      "max_height": null,
      "max_width": null,
      "min_height": null,
      "min_width": null,
      "object_fit": null,
      "object_position": null,
      "order": null,
      "overflow": null,
      "overflow_x": null,
      "overflow_y": null,
      "padding": null,
      "right": null,
      "top": null,
      "visibility": null,
      "width": null
     }
    },
    "55eb8400ead24cb79bf5ac9bbd19fcef": {
     "model_module": "@jupyter-widgets/controls",
     "model_name": "FloatProgressModel",
     "state": {
      "_dom_classes": [],
      "_model_module": "@jupyter-widgets/controls",
      "_model_module_version": "1.5.0",
      "_model_name": "FloatProgressModel",
      "_view_count": null,
      "_view_module": "@jupyter-widgets/controls",
      "_view_module_version": "1.5.0",
      "_view_name": "ProgressView",
      "bar_style": "success",
      "description": "Downloading: 100%",
      "description_tooltip": null,
      "layout": "IPY_MODEL_b5891562f8694a9896da46ad10c9d5a2",
      "max": 438006864,
      "min": 0,
      "orientation": "horizontal",
      "style": "IPY_MODEL_1c6ee52e38af407dbc67594d95139af2",
      "value": 438006864
     }
    },
    "5e13164f29d6417482f3cd5a637acb27": {
     "model_module": "@jupyter-widgets/controls",
     "model_name": "FloatProgressModel",
     "state": {
      "_dom_classes": [],
      "_model_module": "@jupyter-widgets/controls",
      "_model_module_version": "1.5.0",
      "_model_name": "FloatProgressModel",
      "_view_count": null,
      "_view_module": "@jupyter-widgets/controls",
      "_view_module_version": "1.5.0",
      "_view_name": "ProgressView",
      "bar_style": "success",
      "description": "Downloading: 100%",
      "description_tooltip": null,
      "layout": "IPY_MODEL_4c7a46acc2944c1a931f2584a660bb31",
      "max": 493,
      "min": 0,
      "orientation": "horizontal",
      "style": "IPY_MODEL_3e407f3f04294a12a3131c63bb3b3f4c",
      "value": 493
     }
    },
    "65f0869573dd46a6b77e365d337c3ae0": {
     "model_module": "@jupyter-widgets/base",
     "model_name": "LayoutModel",
     "state": {
      "_model_module": "@jupyter-widgets/base",
      "_model_module_version": "1.2.0",
      "_model_name": "LayoutModel",
      "_view_count": null,
      "_view_module": "@jupyter-widgets/base",
      "_view_module_version": "1.2.0",
      "_view_name": "LayoutView",
      "align_content": null,
      "align_items": null,
      "align_self": null,
      "border": null,
      "bottom": null,
      "display": null,
      "flex": null,
      "flex_flow": null,
      "grid_area": null,
      "grid_auto_columns": null,
      "grid_auto_flow": null,
      "grid_auto_rows": null,
      "grid_column": null,
      "grid_gap": null,
      "grid_row": null,
      "grid_template_areas": null,
      "grid_template_columns": null,
      "grid_template_rows": null,
      "height": null,
      "justify_content": null,
      "justify_items": null,
      "left": null,
      "margin": null,
      "max_height": null,
      "max_width": null,
      "min_height": null,
      "min_width": null,
      "object_fit": null,
      "object_position": null,
      "order": null,
      "overflow": null,
      "overflow_x": null,
      "overflow_y": null,
      "padding": null,
      "right": null,
      "top": null,
      "visibility": null,
      "width": null
     }
    },
    "6b65a522fa034bc2bdc813fc83d13448": {
     "model_module": "@jupyter-widgets/base",
     "model_name": "LayoutModel",
     "state": {
      "_model_module": "@jupyter-widgets/base",
      "_model_module_version": "1.2.0",
      "_model_name": "LayoutModel",
      "_view_count": null,
      "_view_module": "@jupyter-widgets/base",
      "_view_module_version": "1.2.0",
      "_view_name": "LayoutView",
      "align_content": null,
      "align_items": null,
      "align_self": null,
      "border": null,
      "bottom": null,
      "display": null,
      "flex": null,
      "flex_flow": null,
      "grid_area": null,
      "grid_auto_columns": null,
      "grid_auto_flow": null,
      "grid_auto_rows": null,
      "grid_column": null,
      "grid_gap": null,
      "grid_row": null,
      "grid_template_areas": null,
      "grid_template_columns": null,
      "grid_template_rows": null,
      "height": null,
      "justify_content": null,
      "justify_items": null,
      "left": null,
      "margin": null,
      "max_height": null,
      "max_width": null,
      "min_height": null,
      "min_width": null,
      "object_fit": null,
      "object_position": null,
      "order": null,
      "overflow": null,
      "overflow_x": null,
      "overflow_y": null,
      "padding": null,
      "right": null,
      "top": null,
      "visibility": null,
      "width": null
     }
    },
    "7160ee9229094f24bb784d924a930e2b": {
     "model_module": "@jupyter-widgets/controls",
     "model_name": "FloatProgressModel",
     "state": {
      "_dom_classes": [],
      "_model_module": "@jupyter-widgets/controls",
      "_model_module_version": "1.5.0",
      "_model_name": "FloatProgressModel",
      "_view_count": null,
      "_view_module": "@jupyter-widgets/controls",
      "_view_module_version": "1.5.0",
      "_view_name": "ProgressView",
      "bar_style": "success",
      "description": "Downloading: 100%",
      "description_tooltip": null,
      "layout": "IPY_MODEL_1e586b245b7e47b1972016e0eee40141",
      "max": 437986065,
      "min": 0,
      "orientation": "horizontal",
      "style": "IPY_MODEL_de7e3d2a47bb4fc9a837f12445840f58",
      "value": 437986065
     }
    },
    "72416fba59484e9b99ce7954b469874e": {
     "model_module": "@jupyter-widgets/controls",
     "model_name": "DescriptionStyleModel",
     "state": {
      "_model_module": "@jupyter-widgets/controls",
      "_model_module_version": "1.5.0",
      "_model_name": "DescriptionStyleModel",
      "_view_count": null,
      "_view_module": "@jupyter-widgets/base",
      "_view_module_version": "1.2.0",
      "_view_name": "StyleView",
      "description_width": ""
     }
    },
    "72ad675afcd34aaba0acd57138819f61": {
     "model_module": "@jupyter-widgets/controls",
     "model_name": "FloatProgressModel",
     "state": {
      "_dom_classes": [],
      "_model_module": "@jupyter-widgets/controls",
      "_model_module_version": "1.5.0",
      "_model_name": "FloatProgressModel",
      "_view_count": null,
      "_view_module": "@jupyter-widgets/controls",
      "_view_module_version": "1.5.0",
      "_view_name": "ProgressView",
      "bar_style": "success",
      "description": "Downloading: 100%",
      "description_tooltip": null,
      "layout": "IPY_MODEL_b82199ebf94b41569ee22b502682b504",
      "max": 492,
      "min": 0,
      "orientation": "horizontal",
      "style": "IPY_MODEL_c2168bbec2854b099cf687a11bf12b49",
      "value": 492
     }
    },
    "77ab78ceacc346e399fb6e455189a0ee": {
     "model_module": "@jupyter-widgets/controls",
     "model_name": "HTMLModel",
     "state": {
      "_dom_classes": [],
      "_model_module": "@jupyter-widgets/controls",
      "_model_module_version": "1.5.0",
      "_model_name": "HTMLModel",
      "_view_count": null,
      "_view_module": "@jupyter-widgets/controls",
      "_view_module_version": "1.5.0",
      "_view_name": "HTMLView",
      "description": "",
      "description_tooltip": null,
      "layout": "IPY_MODEL_526ee04e57cd41ef823ca839eded7b2c",
      "placeholder": "​",
      "style": "IPY_MODEL_fdddde99bb9b442f85d744cde2679d16",
      "value": " 438M/438M [00:12&lt;00:00, 34.4MB/s]"
     }
    },
    "78014b5232cb46539cfeaa9e983e0345": {
     "model_module": "@jupyter-widgets/controls",
     "model_name": "DescriptionStyleModel",
     "state": {
      "_model_module": "@jupyter-widgets/controls",
      "_model_module_version": "1.5.0",
      "_model_name": "DescriptionStyleModel",
      "_view_count": null,
      "_view_module": "@jupyter-widgets/base",
      "_view_module_version": "1.2.0",
      "_view_name": "StyleView",
      "description_width": ""
     }
    },
    "7949ba78015f42aeafc203fd6ed00aca": {
     "model_module": "@jupyter-widgets/base",
     "model_name": "LayoutModel",
     "state": {
      "_model_module": "@jupyter-widgets/base",
      "_model_module_version": "1.2.0",
      "_model_name": "LayoutModel",
      "_view_count": null,
      "_view_module": "@jupyter-widgets/base",
      "_view_module_version": "1.2.0",
      "_view_name": "LayoutView",
      "align_content": null,
      "align_items": null,
      "align_self": null,
      "border": null,
      "bottom": null,
      "display": null,
      "flex": null,
      "flex_flow": null,
      "grid_area": null,
      "grid_auto_columns": null,
      "grid_auto_flow": null,
      "grid_auto_rows": null,
      "grid_column": null,
      "grid_gap": null,
      "grid_row": null,
      "grid_template_areas": null,
      "grid_template_columns": null,
      "grid_template_rows": null,
      "height": null,
      "justify_content": null,
      "justify_items": null,
      "left": null,
      "margin": null,
      "max_height": null,
      "max_width": null,
      "min_height": null,
      "min_width": null,
      "object_fit": null,
      "object_position": null,
      "order": null,
      "overflow": null,
      "overflow_x": null,
      "overflow_y": null,
      "padding": null,
      "right": null,
      "top": null,
      "visibility": null,
      "width": null
     }
    },
    "7ce6b3b34964438f85be12f5d28ba76a": {
     "model_module": "@jupyter-widgets/controls",
     "model_name": "HTMLModel",
     "state": {
      "_dom_classes": [],
      "_model_module": "@jupyter-widgets/controls",
      "_model_module_version": "1.5.0",
      "_model_name": "HTMLModel",
      "_view_count": null,
      "_view_module": "@jupyter-widgets/controls",
      "_view_module_version": "1.5.0",
      "_view_name": "HTMLView",
      "description": "",
      "description_tooltip": null,
      "layout": "IPY_MODEL_c7aef6a47fc34cc0b245185883d5a618",
      "placeholder": "​",
      "style": "IPY_MODEL_72416fba59484e9b99ce7954b469874e",
      "value": " 385/385 [00:00&lt;00:00, 1.75kB/s]"
     }
    },
    "9747f3f3bfc74804aaad81309b0544d4": {
     "model_module": "@jupyter-widgets/base",
     "model_name": "LayoutModel",
     "state": {
      "_model_module": "@jupyter-widgets/base",
      "_model_module_version": "1.2.0",
      "_model_name": "LayoutModel",
      "_view_count": null,
      "_view_module": "@jupyter-widgets/base",
      "_view_module_version": "1.2.0",
      "_view_name": "LayoutView",
      "align_content": null,
      "align_items": null,
      "align_self": null,
      "border": null,
      "bottom": null,
      "display": null,
      "flex": null,
      "flex_flow": null,
      "grid_area": null,
      "grid_auto_columns": null,
      "grid_auto_flow": null,
      "grid_auto_rows": null,
      "grid_column": null,
      "grid_gap": null,
      "grid_row": null,
      "grid_template_areas": null,
      "grid_template_columns": null,
      "grid_template_rows": null,
      "height": null,
      "justify_content": null,
      "justify_items": null,
      "left": null,
      "margin": null,
      "max_height": null,
      "max_width": null,
      "min_height": null,
      "min_width": null,
      "object_fit": null,
      "object_position": null,
      "order": null,
      "overflow": null,
      "overflow_x": null,
      "overflow_y": null,
      "padding": null,
      "right": null,
      "top": null,
      "visibility": null,
      "width": null
     }
    },
    "9a2b3d73765a4653abf341547265d4e1": {
     "model_module": "@jupyter-widgets/base",
     "model_name": "LayoutModel",
     "state": {
      "_model_module": "@jupyter-widgets/base",
      "_model_module_version": "1.2.0",
      "_model_name": "LayoutModel",
      "_view_count": null,
      "_view_module": "@jupyter-widgets/base",
      "_view_module_version": "1.2.0",
      "_view_name": "LayoutView",
      "align_content": null,
      "align_items": null,
      "align_self": null,
      "border": null,
      "bottom": null,
      "display": null,
      "flex": null,
      "flex_flow": null,
      "grid_area": null,
      "grid_auto_columns": null,
      "grid_auto_flow": null,
      "grid_auto_rows": null,
      "grid_column": null,
      "grid_gap": null,
      "grid_row": null,
      "grid_template_areas": null,
      "grid_template_columns": null,
      "grid_template_rows": null,
      "height": null,
      "justify_content": null,
      "justify_items": null,
      "left": null,
      "margin": null,
      "max_height": null,
      "max_width": null,
      "min_height": null,
      "min_width": null,
      "object_fit": null,
      "object_position": null,
      "order": null,
      "overflow": null,
      "overflow_x": null,
      "overflow_y": null,
      "padding": null,
      "right": null,
      "top": null,
      "visibility": null,
      "width": null
     }
    },
    "9f53ad1df4814be7aa03d76a36a7e4e8": {
     "model_module": "@jupyter-widgets/controls",
     "model_name": "HTMLModel",
     "state": {
      "_dom_classes": [],
      "_model_module": "@jupyter-widgets/controls",
      "_model_module_version": "1.5.0",
      "_model_name": "HTMLModel",
      "_view_count": null,
      "_view_module": "@jupyter-widgets/controls",
      "_view_module_version": "1.5.0",
      "_view_name": "HTMLView",
      "description": "",
      "description_tooltip": null,
      "layout": "IPY_MODEL_0ef6a6e9acb745ee91c880cf8c8fd488",
      "placeholder": "​",
      "style": "IPY_MODEL_b77cfe2a77ba46e78718eb1ac2342f86",
      "value": " 232k/232k [00:07&lt;00:00, 30.9kB/s]"
     }
    },
    "a78226a161314919833a7a8f27c90edb": {
     "model_module": "@jupyter-widgets/controls",
     "model_name": "ProgressStyleModel",
     "state": {
      "_model_module": "@jupyter-widgets/controls",
      "_model_module_version": "1.5.0",
      "_model_name": "ProgressStyleModel",
      "_view_count": null,
      "_view_module": "@jupyter-widgets/base",
      "_view_module_version": "1.2.0",
      "_view_name": "StyleView",
      "bar_color": null,
      "description_width": "initial"
     }
    },
    "a7aed6ecd45243859d21155ccbab5d2c": {
     "model_module": "@jupyter-widgets/controls",
     "model_name": "HTMLModel",
     "state": {
      "_dom_classes": [],
      "_model_module": "@jupyter-widgets/controls",
      "_model_module_version": "1.5.0",
      "_model_name": "HTMLModel",
      "_view_count": null,
      "_view_module": "@jupyter-widgets/controls",
      "_view_module_version": "1.5.0",
      "_view_name": "HTMLView",
      "description": "",
      "description_tooltip": null,
      "layout": "IPY_MODEL_22da8bc89bf3403c8865ec41b3d3e60b",
      "placeholder": "​",
      "style": "IPY_MODEL_d226fbf41f6143cbbfef9df92762dda4",
      "value": " 112/112 [00:01&lt;00:00, 71.7B/s]"
     }
    },
    "a910b3bcf4764ecb9585d72ec5add68d": {
     "model_module": "@jupyter-widgets/controls",
     "model_name": "HTMLModel",
     "state": {
      "_dom_classes": [],
      "_model_module": "@jupyter-widgets/controls",
      "_model_module_version": "1.5.0",
      "_model_name": "HTMLModel",
      "_view_count": null,
      "_view_module": "@jupyter-widgets/controls",
      "_view_module_version": "1.5.0",
      "_view_name": "HTMLView",
      "description": "",
      "description_tooltip": null,
      "layout": "IPY_MODEL_0815d257080742da99f8d5686f82a0d2",
      "placeholder": "​",
      "style": "IPY_MODEL_c4401f62ac09465386e81a398e3d8078",
      "value": " 438M/438M [00:10&lt;00:00, 42.3MB/s]"
     }
    },
    "af71a96afd6043c68acb2a6aed90c270": {
     "model_module": "@jupyter-widgets/controls",
     "model_name": "HBoxModel",
     "state": {
      "_dom_classes": [],
      "_model_module": "@jupyter-widgets/controls",
      "_model_module_version": "1.5.0",
      "_model_name": "HBoxModel",
      "_view_count": null,
      "_view_module": "@jupyter-widgets/controls",
      "_view_module_version": "1.5.0",
      "_view_name": "HBoxView",
      "box_style": "",
      "children": [
       "IPY_MODEL_5e13164f29d6417482f3cd5a637acb27",
       "IPY_MODEL_efeaedff1dae4aa5b0492b39eea8d73f"
      ],
      "layout": "IPY_MODEL_38601493a7534672a9b688089e6df031"
     }
    },
    "b16bd52447c94f22b2c3a051eb7ae2a0": {
     "model_module": "@jupyter-widgets/controls",
     "model_name": "HBoxModel",
     "state": {
      "_dom_classes": [],
      "_model_module": "@jupyter-widgets/controls",
      "_model_module_version": "1.5.0",
      "_model_name": "HBoxModel",
      "_view_count": null,
      "_view_module": "@jupyter-widgets/controls",
      "_view_module_version": "1.5.0",
      "_view_name": "HBoxView",
      "box_style": "",
      "children": [
       "IPY_MODEL_371bf892a051402eb8db5fa19ce7e1b4",
       "IPY_MODEL_b2e1eff278274e80a1ede6bbb05584ab"
      ],
      "layout": "IPY_MODEL_0eecf2e35829426698a5d11b250f0fe9"
     }
    },
    "b2e1eff278274e80a1ede6bbb05584ab": {
     "model_module": "@jupyter-widgets/controls",
     "model_name": "HTMLModel",
     "state": {
      "_dom_classes": [],
      "_model_module": "@jupyter-widgets/controls",
      "_model_module_version": "1.5.0",
      "_model_name": "HTMLModel",
      "_view_count": null,
      "_view_module": "@jupyter-widgets/controls",
      "_view_module_version": "1.5.0",
      "_view_name": "HTMLView",
      "description": "",
      "description_tooltip": null,
      "layout": "IPY_MODEL_ebe4f721a419434eb0892b7b6570bff6",
      "placeholder": "​",
      "style": "IPY_MODEL_b3794a5381614dab88aa891294e45528",
      "value": " 2.00/2.00 [00:03&lt;00:00, 1.61s/B]"
     }
    },
    "b3794a5381614dab88aa891294e45528": {
     "model_module": "@jupyter-widgets/controls",
     "model_name": "DescriptionStyleModel",
     "state": {
      "_model_module": "@jupyter-widgets/controls",
      "_model_module_version": "1.5.0",
      "_model_name": "DescriptionStyleModel",
      "_view_count": null,
      "_view_module": "@jupyter-widgets/base",
      "_view_module_version": "1.2.0",
      "_view_name": "StyleView",
      "description_width": ""
     }
    },
    "b5891562f8694a9896da46ad10c9d5a2": {
     "model_module": "@jupyter-widgets/base",
     "model_name": "LayoutModel",
     "state": {
      "_model_module": "@jupyter-widgets/base",
      "_model_module_version": "1.2.0",
      "_model_name": "LayoutModel",
      "_view_count": null,
      "_view_module": "@jupyter-widgets/base",
      "_view_module_version": "1.2.0",
      "_view_name": "LayoutView",
      "align_content": null,
      "align_items": null,
      "align_self": null,
      "border": null,
      "bottom": null,
      "display": null,
      "flex": null,
      "flex_flow": null,
      "grid_area": null,
      "grid_auto_columns": null,
      "grid_auto_flow": null,
      "grid_auto_rows": null,
      "grid_column": null,
      "grid_gap": null,
      "grid_row": null,
      "grid_template_areas": null,
      "grid_template_columns": null,
      "grid_template_rows": null,
      "height": null,
      "justify_content": null,
      "justify_items": null,
      "left": null,
      "margin": null,
      "max_height": null,
      "max_width": null,
      "min_height": null,
      "min_width": null,
      "object_fit": null,
      "object_position": null,
      "order": null,
      "overflow": null,
      "overflow_x": null,
      "overflow_y": null,
      "padding": null,
      "right": null,
      "top": null,
      "visibility": null,
      "width": null
     }
    },
    "b77cfe2a77ba46e78718eb1ac2342f86": {
     "model_module": "@jupyter-widgets/controls",
     "model_name": "DescriptionStyleModel",
     "state": {
      "_model_module": "@jupyter-widgets/controls",
      "_model_module_version": "1.5.0",
      "_model_name": "DescriptionStyleModel",
      "_view_count": null,
      "_view_module": "@jupyter-widgets/base",
      "_view_module_version": "1.2.0",
      "_view_name": "StyleView",
      "description_width": ""
     }
    },
    "b77e4ef943d34f8a855d5d0187ecf5cf": {
     "model_module": "@jupyter-widgets/controls",
     "model_name": "HTMLModel",
     "state": {
      "_dom_classes": [],
      "_model_module": "@jupyter-widgets/controls",
      "_model_module_version": "1.5.0",
      "_model_name": "HTMLModel",
      "_view_count": null,
      "_view_module": "@jupyter-widgets/controls",
      "_view_module_version": "1.5.0",
      "_view_name": "HTMLView",
      "description": "",
      "description_tooltip": null,
      "layout": "IPY_MODEL_9a2b3d73765a4653abf341547265d4e1",
      "placeholder": "​",
      "style": "IPY_MODEL_78014b5232cb46539cfeaa9e983e0345",
      "value": " 492/492 [00:00&lt;00:00, 502B/s]"
     }
    },
    "b82199ebf94b41569ee22b502682b504": {
     "model_module": "@jupyter-widgets/base",
     "model_name": "LayoutModel",
     "state": {
      "_model_module": "@jupyter-widgets/base",
      "_model_module_version": "1.2.0",
      "_model_name": "LayoutModel",
      "_view_count": null,
      "_view_module": "@jupyter-widgets/base",
      "_view_module_version": "1.2.0",
      "_view_name": "LayoutView",
      "align_content": null,
      "align_items": null,
      "align_self": null,
      "border": null,
      "bottom": null,
      "display": null,
      "flex": null,
      "flex_flow": null,
      "grid_area": null,
      "grid_auto_columns": null,
      "grid_auto_flow": null,
      "grid_auto_rows": null,
      "grid_column": null,
      "grid_gap": null,
      "grid_row": null,
      "grid_template_areas": null,
      "grid_template_columns": null,
      "grid_template_rows": null,
      "height": null,
      "justify_content": null,
      "justify_items": null,
      "left": null,
      "margin": null,
      "max_height": null,
      "max_width": null,
      "min_height": null,
      "min_width": null,
      "object_fit": null,
      "object_position": null,
      "order": null,
      "overflow": null,
      "overflow_x": null,
      "overflow_y": null,
      "padding": null,
      "right": null,
      "top": null,
      "visibility": null,
      "width": null
     }
    },
    "b849e2397ff14e8991616f029c2cc59d": {
     "model_module": "@jupyter-widgets/base",
     "model_name": "LayoutModel",
     "state": {
      "_model_module": "@jupyter-widgets/base",
      "_model_module_version": "1.2.0",
      "_model_name": "LayoutModel",
      "_view_count": null,
      "_view_module": "@jupyter-widgets/base",
      "_view_module_version": "1.2.0",
      "_view_name": "LayoutView",
      "align_content": null,
      "align_items": null,
      "align_self": null,
      "border": null,
      "bottom": null,
      "display": null,
      "flex": null,
      "flex_flow": null,
      "grid_area": null,
      "grid_auto_columns": null,
      "grid_auto_flow": null,
      "grid_auto_rows": null,
      "grid_column": null,
      "grid_gap": null,
      "grid_row": null,
      "grid_template_areas": null,
      "grid_template_columns": null,
      "grid_template_rows": null,
      "height": null,
      "justify_content": null,
      "justify_items": null,
      "left": null,
      "margin": null,
      "max_height": null,
      "max_width": null,
      "min_height": null,
      "min_width": null,
      "object_fit": null,
      "object_position": null,
      "order": null,
      "overflow": null,
      "overflow_x": null,
      "overflow_y": null,
      "padding": null,
      "right": null,
      "top": null,
      "visibility": null,
      "width": null
     }
    },
    "b9ea4983c60c4782ae15e94bbf3c60d9": {
     "model_module": "@jupyter-widgets/controls",
     "model_name": "FloatProgressModel",
     "state": {
      "_dom_classes": [],
      "_model_module": "@jupyter-widgets/controls",
      "_model_module_version": "1.5.0",
      "_model_name": "FloatProgressModel",
      "_view_count": null,
      "_view_module": "@jupyter-widgets/controls",
      "_view_module_version": "1.5.0",
      "_view_name": "ProgressView",
      "bar_style": "success",
      "description": "Downloading: 100%",
      "description_tooltip": null,
      "layout": "IPY_MODEL_29597fd960ba4e539b46bfe281fc10b8",
      "max": 437983985,
      "min": 0,
      "orientation": "horizontal",
      "style": "IPY_MODEL_e43a8c6629704b609e0e2bded71968a6",
      "value": 437983985
     }
    },
    "c2168bbec2854b099cf687a11bf12b49": {
     "model_module": "@jupyter-widgets/controls",
     "model_name": "ProgressStyleModel",
     "state": {
      "_model_module": "@jupyter-widgets/controls",
      "_model_module_version": "1.5.0",
      "_model_name": "ProgressStyleModel",
      "_view_count": null,
      "_view_module": "@jupyter-widgets/base",
      "_view_module_version": "1.2.0",
      "_view_name": "StyleView",
      "bar_color": null,
      "description_width": "initial"
     }
    },
    "c4401f62ac09465386e81a398e3d8078": {
     "model_module": "@jupyter-widgets/controls",
     "model_name": "DescriptionStyleModel",
     "state": {
      "_model_module": "@jupyter-widgets/controls",
      "_model_module_version": "1.5.0",
      "_model_name": "DescriptionStyleModel",
      "_view_count": null,
      "_view_module": "@jupyter-widgets/base",
      "_view_module_version": "1.2.0",
      "_view_name": "StyleView",
      "description_width": ""
     }
    },
    "c6df3d4a9578439ea5edcffea7bca2e5": {
     "model_module": "@jupyter-widgets/base",
     "model_name": "LayoutModel",
     "state": {
      "_model_module": "@jupyter-widgets/base",
      "_model_module_version": "1.2.0",
      "_model_name": "LayoutModel",
      "_view_count": null,
      "_view_module": "@jupyter-widgets/base",
      "_view_module_version": "1.2.0",
      "_view_name": "LayoutView",
      "align_content": null,
      "align_items": null,
      "align_self": null,
      "border": null,
      "bottom": null,
      "display": null,
      "flex": null,
      "flex_flow": null,
      "grid_area": null,
      "grid_auto_columns": null,
      "grid_auto_flow": null,
      "grid_auto_rows": null,
      "grid_column": null,
      "grid_gap": null,
      "grid_row": null,
      "grid_template_areas": null,
      "grid_template_columns": null,
      "grid_template_rows": null,
      "height": null,
      "justify_content": null,
      "justify_items": null,
      "left": null,
      "margin": null,
      "max_height": null,
      "max_width": null,
      "min_height": null,
      "min_width": null,
      "object_fit": null,
      "object_position": null,
      "order": null,
      "overflow": null,
      "overflow_x": null,
      "overflow_y": null,
      "padding": null,
      "right": null,
      "top": null,
      "visibility": null,
      "width": null
     }
    },
    "c7aef6a47fc34cc0b245185883d5a618": {
     "model_module": "@jupyter-widgets/base",
     "model_name": "LayoutModel",
     "state": {
      "_model_module": "@jupyter-widgets/base",
      "_model_module_version": "1.2.0",
      "_model_name": "LayoutModel",
      "_view_count": null,
      "_view_module": "@jupyter-widgets/base",
      "_view_module_version": "1.2.0",
      "_view_name": "LayoutView",
      "align_content": null,
      "align_items": null,
      "align_self": null,
      "border": null,
      "bottom": null,
      "display": null,
      "flex": null,
      "flex_flow": null,
      "grid_area": null,
      "grid_auto_columns": null,
      "grid_auto_flow": null,
      "grid_auto_rows": null,
      "grid_column": null,
      "grid_gap": null,
      "grid_row": null,
      "grid_template_areas": null,
      "grid_template_columns": null,
      "grid_template_rows": null,
      "height": null,
      "justify_content": null,
      "justify_items": null,
      "left": null,
      "margin": null,
      "max_height": null,
      "max_width": null,
      "min_height": null,
      "min_width": null,
      "object_fit": null,
      "object_position": null,
      "order": null,
      "overflow": null,
      "overflow_x": null,
      "overflow_y": null,
      "padding": null,
      "right": null,
      "top": null,
      "visibility": null,
      "width": null
     }
    },
    "c875a9c2b96f4128ab5ef603b475ac00": {
     "model_module": "@jupyter-widgets/base",
     "model_name": "LayoutModel",
     "state": {
      "_model_module": "@jupyter-widgets/base",
      "_model_module_version": "1.2.0",
      "_model_name": "LayoutModel",
      "_view_count": null,
      "_view_module": "@jupyter-widgets/base",
      "_view_module_version": "1.2.0",
      "_view_name": "LayoutView",
      "align_content": null,
      "align_items": null,
      "align_self": null,
      "border": null,
      "bottom": null,
      "display": null,
      "flex": null,
      "flex_flow": null,
      "grid_area": null,
      "grid_auto_columns": null,
      "grid_auto_flow": null,
      "grid_auto_rows": null,
      "grid_column": null,
      "grid_gap": null,
      "grid_row": null,
      "grid_template_areas": null,
      "grid_template_columns": null,
      "grid_template_rows": null,
      "height": null,
      "justify_content": null,
      "justify_items": null,
      "left": null,
      "margin": null,
      "max_height": null,
      "max_width": null,
      "min_height": null,
      "min_width": null,
      "object_fit": null,
      "object_position": null,
      "order": null,
      "overflow": null,
      "overflow_x": null,
      "overflow_y": null,
      "padding": null,
      "right": null,
      "top": null,
      "visibility": null,
      "width": null
     }
    },
    "cadad97cd91e45ebbd43bca06057f0be": {
     "model_module": "@jupyter-widgets/base",
     "model_name": "LayoutModel",
     "state": {
      "_model_module": "@jupyter-widgets/base",
      "_model_module_version": "1.2.0",
      "_model_name": "LayoutModel",
      "_view_count": null,
      "_view_module": "@jupyter-widgets/base",
      "_view_module_version": "1.2.0",
      "_view_name": "LayoutView",
      "align_content": null,
      "align_items": null,
      "align_self": null,
      "border": null,
      "bottom": null,
      "display": null,
      "flex": null,
      "flex_flow": null,
      "grid_area": null,
      "grid_auto_columns": null,
      "grid_auto_flow": null,
      "grid_auto_rows": null,
      "grid_column": null,
      "grid_gap": null,
      "grid_row": null,
      "grid_template_areas": null,
      "grid_template_columns": null,
      "grid_template_rows": null,
      "height": null,
      "justify_content": null,
      "justify_items": null,
      "left": null,
      "margin": null,
      "max_height": null,
      "max_width": null,
      "min_height": null,
      "min_width": null,
      "object_fit": null,
      "object_position": null,
      "order": null,
      "overflow": null,
      "overflow_x": null,
      "overflow_y": null,
      "padding": null,
      "right": null,
      "top": null,
      "visibility": null,
      "width": null
     }
    },
    "cc9b774bedd74ea8a0ec968c32cadb19": {
     "model_module": "@jupyter-widgets/controls",
     "model_name": "HBoxModel",
     "state": {
      "_dom_classes": [],
      "_model_module": "@jupyter-widgets/controls",
      "_model_module_version": "1.5.0",
      "_model_name": "HBoxModel",
      "_view_count": null,
      "_view_module": "@jupyter-widgets/controls",
      "_view_module_version": "1.5.0",
      "_view_name": "HBoxView",
      "box_style": "",
      "children": [
       "IPY_MODEL_55eb8400ead24cb79bf5ac9bbd19fcef",
       "IPY_MODEL_77ab78ceacc346e399fb6e455189a0ee"
      ],
      "layout": "IPY_MODEL_16556c23c925479d924a6320f167a654"
     }
    },
    "cd5c52c1c74941e09aef0454da2c9bab": {
     "model_module": "@jupyter-widgets/base",
     "model_name": "LayoutModel",
     "state": {
      "_model_module": "@jupyter-widgets/base",
      "_model_module_version": "1.2.0",
      "_model_name": "LayoutModel",
      "_view_count": null,
      "_view_module": "@jupyter-widgets/base",
      "_view_module_version": "1.2.0",
      "_view_name": "LayoutView",
      "align_content": null,
      "align_items": null,
      "align_self": null,
      "border": null,
      "bottom": null,
      "display": null,
      "flex": null,
      "flex_flow": null,
      "grid_area": null,
      "grid_auto_columns": null,
      "grid_auto_flow": null,
      "grid_auto_rows": null,
      "grid_column": null,
      "grid_gap": null,
      "grid_row": null,
      "grid_template_areas": null,
      "grid_template_columns": null,
      "grid_template_rows": null,
      "height": null,
      "justify_content": null,
      "justify_items": null,
      "left": null,
      "margin": null,
      "max_height": null,
      "max_width": null,
      "min_height": null,
      "min_width": null,
      "object_fit": null,
      "object_position": null,
      "order": null,
      "overflow": null,
      "overflow_x": null,
      "overflow_y": null,
      "padding": null,
      "right": null,
      "top": null,
      "visibility": null,
      "width": null
     }
    },
    "ceedfc35225d44c5b43f272c605c9963": {
     "model_module": "@jupyter-widgets/base",
     "model_name": "LayoutModel",
     "state": {
      "_model_module": "@jupyter-widgets/base",
      "_model_module_version": "1.2.0",
      "_model_name": "LayoutModel",
      "_view_count": null,
      "_view_module": "@jupyter-widgets/base",
      "_view_module_version": "1.2.0",
      "_view_name": "LayoutView",
      "align_content": null,
      "align_items": null,
      "align_self": null,
      "border": null,
      "bottom": null,
      "display": null,
      "flex": null,
      "flex_flow": null,
      "grid_area": null,
      "grid_auto_columns": null,
      "grid_auto_flow": null,
      "grid_auto_rows": null,
      "grid_column": null,
      "grid_gap": null,
      "grid_row": null,
      "grid_template_areas": null,
      "grid_template_columns": null,
      "grid_template_rows": null,
      "height": null,
      "justify_content": null,
      "justify_items": null,
      "left": null,
      "margin": null,
      "max_height": null,
      "max_width": null,
      "min_height": null,
      "min_width": null,
      "object_fit": null,
      "object_position": null,
      "order": null,
      "overflow": null,
      "overflow_x": null,
      "overflow_y": null,
      "padding": null,
      "right": null,
      "top": null,
      "visibility": null,
      "width": null
     }
    },
    "d226fbf41f6143cbbfef9df92762dda4": {
     "model_module": "@jupyter-widgets/controls",
     "model_name": "DescriptionStyleModel",
     "state": {
      "_model_module": "@jupyter-widgets/controls",
      "_model_module_version": "1.5.0",
      "_model_name": "DescriptionStyleModel",
      "_view_count": null,
      "_view_module": "@jupyter-widgets/base",
      "_view_module_version": "1.2.0",
      "_view_name": "StyleView",
      "description_width": ""
     }
    },
    "d44fb49a727f4fcbb2c855858b89cb5d": {
     "model_module": "@jupyter-widgets/controls",
     "model_name": "FloatProgressModel",
     "state": {
      "_dom_classes": [],
      "_model_module": "@jupyter-widgets/controls",
      "_model_module_version": "1.5.0",
      "_model_name": "FloatProgressModel",
      "_view_count": null,
      "_view_module": "@jupyter-widgets/controls",
      "_view_module_version": "1.5.0",
      "_view_name": "ProgressView",
      "bar_style": "success",
      "description": "Downloading: 100%",
      "description_tooltip": null,
      "layout": "IPY_MODEL_2336117ebb6b45b5a1a1fe20222e213c",
      "max": 231508,
      "min": 0,
      "orientation": "horizontal",
      "style": "IPY_MODEL_f9b64914b6534ed2b340eb3374cd05a5",
      "value": 231508
     }
    },
    "d6a3aed9750a4991a2c1bc4645e59c99": {
     "model_module": "@jupyter-widgets/base",
     "model_name": "LayoutModel",
     "state": {
      "_model_module": "@jupyter-widgets/base",
      "_model_module_version": "1.2.0",
      "_model_name": "LayoutModel",
      "_view_count": null,
      "_view_module": "@jupyter-widgets/base",
      "_view_module_version": "1.2.0",
      "_view_name": "LayoutView",
      "align_content": null,
      "align_items": null,
      "align_self": null,
      "border": null,
      "bottom": null,
      "display": null,
      "flex": null,
      "flex_flow": null,
      "grid_area": null,
      "grid_auto_columns": null,
      "grid_auto_flow": null,
      "grid_auto_rows": null,
      "grid_column": null,
      "grid_gap": null,
      "grid_row": null,
      "grid_template_areas": null,
      "grid_template_columns": null,
      "grid_template_rows": null,
      "height": null,
      "justify_content": null,
      "justify_items": null,
      "left": null,
      "margin": null,
      "max_height": null,
      "max_width": null,
      "min_height": null,
      "min_width": null,
      "object_fit": null,
      "object_position": null,
      "order": null,
      "overflow": null,
      "overflow_x": null,
      "overflow_y": null,
      "padding": null,
      "right": null,
      "top": null,
      "visibility": null,
      "width": null
     }
    },
    "de7e3d2a47bb4fc9a837f12445840f58": {
     "model_module": "@jupyter-widgets/controls",
     "model_name": "ProgressStyleModel",
     "state": {
      "_model_module": "@jupyter-widgets/controls",
      "_model_module_version": "1.5.0",
      "_model_name": "ProgressStyleModel",
      "_view_count": null,
      "_view_module": "@jupyter-widgets/base",
      "_view_module_version": "1.2.0",
      "_view_name": "StyleView",
      "bar_color": null,
      "description_width": "initial"
     }
    },
    "e345baeca1004924a8c9d9a722f0f531": {
     "model_module": "@jupyter-widgets/controls",
     "model_name": "HTMLModel",
     "state": {
      "_dom_classes": [],
      "_model_module": "@jupyter-widgets/controls",
      "_model_module_version": "1.5.0",
      "_model_name": "HTMLModel",
      "_view_count": null,
      "_view_module": "@jupyter-widgets/controls",
      "_view_module_version": "1.5.0",
      "_view_name": "HTMLView",
      "description": "",
      "description_tooltip": null,
      "layout": "IPY_MODEL_c6df3d4a9578439ea5edcffea7bca2e5",
      "placeholder": "​",
      "style": "IPY_MODEL_f69955cf50124a1789cdc041180b85a0",
      "value": " 438M/438M [00:06&lt;00:00, 68.5MB/s]"
     }
    },
    "e3e82539d34a45ec85ccee61b9726cdf": {
     "model_module": "@jupyter-widgets/controls",
     "model_name": "FloatProgressModel",
     "state": {
      "_dom_classes": [],
      "_model_module": "@jupyter-widgets/controls",
      "_model_module_version": "1.5.0",
      "_model_name": "FloatProgressModel",
      "_view_count": null,
      "_view_module": "@jupyter-widgets/controls",
      "_view_module_version": "1.5.0",
      "_view_name": "ProgressView",
      "bar_style": "success",
      "description": "Downloading: 100%",
      "description_tooltip": null,
      "layout": "IPY_MODEL_cd5c52c1c74941e09aef0454da2c9bab",
      "max": 112,
      "min": 0,
      "orientation": "horizontal",
      "style": "IPY_MODEL_41233fc55dad48f3802d3c6c664e3b33",
      "value": 112
     }
    },
    "e43a8c6629704b609e0e2bded71968a6": {
     "model_module": "@jupyter-widgets/controls",
     "model_name": "ProgressStyleModel",
     "state": {
      "_model_module": "@jupyter-widgets/controls",
      "_model_module_version": "1.5.0",
      "_model_name": "ProgressStyleModel",
      "_view_count": null,
      "_view_module": "@jupyter-widgets/base",
      "_view_module_version": "1.2.0",
      "_view_name": "StyleView",
      "bar_color": null,
      "description_width": "initial"
     }
    },
    "e4c929ebd9ce43d6993b11f424cfb2e7": {
     "model_module": "@jupyter-widgets/controls",
     "model_name": "ProgressStyleModel",
     "state": {
      "_model_module": "@jupyter-widgets/controls",
      "_model_module_version": "1.5.0",
      "_model_name": "ProgressStyleModel",
      "_view_count": null,
      "_view_module": "@jupyter-widgets/base",
      "_view_module_version": "1.2.0",
      "_view_name": "StyleView",
      "bar_color": null,
      "description_width": "initial"
     }
    },
    "e722e87c5ce44db9a8b70424a7cf94aa": {
     "model_module": "@jupyter-widgets/controls",
     "model_name": "DescriptionStyleModel",
     "state": {
      "_model_module": "@jupyter-widgets/controls",
      "_model_module_version": "1.5.0",
      "_model_name": "DescriptionStyleModel",
      "_view_count": null,
      "_view_module": "@jupyter-widgets/base",
      "_view_module_version": "1.2.0",
      "_view_name": "StyleView",
      "description_width": ""
     }
    },
    "e9f475d01a834195acaf406c008beb30": {
     "model_module": "@jupyter-widgets/controls",
     "model_name": "HBoxModel",
     "state": {
      "_dom_classes": [],
      "_model_module": "@jupyter-widgets/controls",
      "_model_module_version": "1.5.0",
      "_model_name": "HBoxModel",
      "_view_count": null,
      "_view_module": "@jupyter-widgets/controls",
      "_view_module_version": "1.5.0",
      "_view_name": "HBoxView",
      "box_style": "",
      "children": [
       "IPY_MODEL_438498e1b7b94f4cabb49ac5382228f9",
       "IPY_MODEL_7ce6b3b34964438f85be12f5d28ba76a"
      ],
      "layout": "IPY_MODEL_3e1ede1985d24ebab52429a1df188e2c"
     }
    },
    "ebe4f721a419434eb0892b7b6570bff6": {
     "model_module": "@jupyter-widgets/base",
     "model_name": "LayoutModel",
     "state": {
      "_model_module": "@jupyter-widgets/base",
      "_model_module_version": "1.2.0",
      "_model_name": "LayoutModel",
      "_view_count": null,
      "_view_module": "@jupyter-widgets/base",
      "_view_module_version": "1.2.0",
      "_view_name": "LayoutView",
      "align_content": null,
      "align_items": null,
      "align_self": null,
      "border": null,
      "bottom": null,
      "display": null,
      "flex": null,
      "flex_flow": null,
      "grid_area": null,
      "grid_auto_columns": null,
      "grid_auto_flow": null,
      "grid_auto_rows": null,
      "grid_column": null,
      "grid_gap": null,
      "grid_row": null,
      "grid_template_areas": null,
      "grid_template_columns": null,
      "grid_template_rows": null,
      "height": null,
      "justify_content": null,
      "justify_items": null,
      "left": null,
      "margin": null,
      "max_height": null,
      "max_width": null,
      "min_height": null,
      "min_width": null,
      "object_fit": null,
      "object_position": null,
      "order": null,
      "overflow": null,
      "overflow_x": null,
      "overflow_y": null,
      "padding": null,
      "right": null,
      "top": null,
      "visibility": null,
      "width": null
     }
    },
    "ed15786151f547f397b3c0f2ad0da85a": {
     "model_module": "@jupyter-widgets/controls",
     "model_name": "DescriptionStyleModel",
     "state": {
      "_model_module": "@jupyter-widgets/controls",
      "_model_module_version": "1.5.0",
      "_model_name": "DescriptionStyleModel",
      "_view_count": null,
      "_view_module": "@jupyter-widgets/base",
      "_view_module_version": "1.2.0",
      "_view_name": "StyleView",
      "description_width": ""
     }
    },
    "ef21e0b751264c408d7ed24c9be8982a": {
     "model_module": "@jupyter-widgets/controls",
     "model_name": "FloatProgressModel",
     "state": {
      "_dom_classes": [],
      "_model_module": "@jupyter-widgets/controls",
      "_model_module_version": "1.5.0",
      "_model_name": "FloatProgressModel",
      "_view_count": null,
      "_view_module": "@jupyter-widgets/controls",
      "_view_module_version": "1.5.0",
      "_view_name": "ProgressView",
      "bar_style": "success",
      "description": "Downloading: 100%",
      "description_tooltip": null,
      "layout": "IPY_MODEL_417638431e6e4a6b9ec843ce9f5ee886",
      "max": 231508,
      "min": 0,
      "orientation": "horizontal",
      "style": "IPY_MODEL_a78226a161314919833a7a8f27c90edb",
      "value": 231508
     }
    },
    "efeaedff1dae4aa5b0492b39eea8d73f": {
     "model_module": "@jupyter-widgets/controls",
     "model_name": "HTMLModel",
     "state": {
      "_dom_classes": [],
      "_model_module": "@jupyter-widgets/controls",
      "_model_module_version": "1.5.0",
      "_model_name": "HTMLModel",
      "_view_count": null,
      "_view_module": "@jupyter-widgets/controls",
      "_view_module_version": "1.5.0",
      "_view_name": "HTMLView",
      "description": "",
      "description_tooltip": null,
      "layout": "IPY_MODEL_c875a9c2b96f4128ab5ef603b475ac00",
      "placeholder": "​",
      "style": "IPY_MODEL_e722e87c5ce44db9a8b70424a7cf94aa",
      "value": " 493/493 [00:00&lt;00:00, 773B/s]"
     }
    },
    "f69955cf50124a1789cdc041180b85a0": {
     "model_module": "@jupyter-widgets/controls",
     "model_name": "DescriptionStyleModel",
     "state": {
      "_model_module": "@jupyter-widgets/controls",
      "_model_module_version": "1.5.0",
      "_model_name": "DescriptionStyleModel",
      "_view_count": null,
      "_view_module": "@jupyter-widgets/base",
      "_view_module_version": "1.2.0",
      "_view_name": "StyleView",
      "description_width": ""
     }
    },
    "f9b64914b6534ed2b340eb3374cd05a5": {
     "model_module": "@jupyter-widgets/controls",
     "model_name": "ProgressStyleModel",
     "state": {
      "_model_module": "@jupyter-widgets/controls",
      "_model_module_version": "1.5.0",
      "_model_name": "ProgressStyleModel",
      "_view_count": null,
      "_view_module": "@jupyter-widgets/base",
      "_view_module_version": "1.2.0",
      "_view_name": "StyleView",
      "bar_color": null,
      "description_width": "initial"
     }
    },
    "fa361d4d474c4287b96a695f06812aee": {
     "model_module": "@jupyter-widgets/controls",
     "model_name": "HBoxModel",
     "state": {
      "_dom_classes": [],
      "_model_module": "@jupyter-widgets/controls",
      "_model_module_version": "1.5.0",
      "_model_name": "HBoxModel",
      "_view_count": null,
      "_view_module": "@jupyter-widgets/controls",
      "_view_module_version": "1.5.0",
      "_view_name": "HBoxView",
      "box_style": "",
      "children": [
       "IPY_MODEL_7160ee9229094f24bb784d924a930e2b",
       "IPY_MODEL_e345baeca1004924a8c9d9a722f0f531"
      ],
      "layout": "IPY_MODEL_7949ba78015f42aeafc203fd6ed00aca"
     }
    },
    "fdddde99bb9b442f85d744cde2679d16": {
     "model_module": "@jupyter-widgets/controls",
     "model_name": "DescriptionStyleModel",
     "state": {
      "_model_module": "@jupyter-widgets/controls",
      "_model_module_version": "1.5.0",
      "_model_name": "DescriptionStyleModel",
      "_view_count": null,
      "_view_module": "@jupyter-widgets/base",
      "_view_module_version": "1.2.0",
      "_view_name": "StyleView",
      "description_width": ""
     }
    }
   }
  }
 },
 "nbformat": 4,
 "nbformat_minor": 1
}
