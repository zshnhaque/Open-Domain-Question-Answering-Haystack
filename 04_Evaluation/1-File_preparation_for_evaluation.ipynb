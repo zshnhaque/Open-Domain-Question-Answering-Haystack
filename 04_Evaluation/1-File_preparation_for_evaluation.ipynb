{
 "cells": [
  {
   "cell_type": "code",
   "execution_count": null,
   "metadata": {},
   "outputs": [],
   "source": [
    "#We don't have ['title'] (document name) field at first.\n",
    "# Here we manually prepare a Dictionary for ['title'] (the document name) where\n",
    "\n",
    "# 'document_id':'document_name'\n",
    "\n",
    "docname_docid = {'33961':'TG0001en_Ed05',\n",
    "'40051':'TG0001en_Ed05_p2',\n",
    "'36075':'TG0002en_Ed02',\n",
    "'33277':'TG0003en',\n",
    "'33926':'TG0004en_Ed02',\n",
    "'42658':'TG0005en',\n",
    "'43647':'TG0006en',\n",
    "'55109':'TG0007en',\n",
    "'42661':'TG0008en_Ed02',\n",
    "'42662':'TG0009en',\n",
    "'42663':'TG0010en',\n",
    "'42664':'TG0011en',\n",
    "'51679':'TG0012en',\n",
    "'33285':'TG0014en_Ed03',\n",
    "'33922':'TG0014en_Ed03_p2',\n",
    "'55792':'TG0015en_Ed02',\n",
    "'42666':'TG0017en',\n",
    "'55793':'TG0022en-Ed07_OmniPCX_Enterprise_Fax_over_IP_Issues_Troubleshooting_Guide',\n",
    "'42667':'TG0023en_Ed04',\n",
    "'42668':'TG0027en_Ed03',\n",
    "'45317':'TG0027en_Ed03_p2',\n",
    "'43723':'TG0028en_Ed08',\n",
    "'55794':'TG0030en_Ed04',\n",
    "'45318':'TG0031en',\n",
    "'51390':'TG0034en_Ed03',\n",
    "'55795':'TG0035en_Ed02',\n",
    "'55796':'TG0038en_Ed05',\n",
    "'55797':'TG0040en',\n",
    "'58304':'TG0042en_Ed04',\n",
    "'45321':'TG0045_Alcatel_Lucent_4059_IP_en_Ed03',\n",
    "'55799':'TG0046en',\n",
    "'45322':'TG0047_Ed05_GETS_Troubleshooting_Guide',\n",
    "'55800':'TG0050en-Ed04_Voice_Recording_System_IP_DR-Link_recording_mode',\n",
    "'45323':'TG0052en_Ed02',\n",
    "'45325':'TG0053en_Ed02',\n",
    "'45440':'TG0055en_Ed03',\n",
    "'55801':'TG0056en_Ed04',\n",
    "'51667':'TG0057en_Ed03',\n",
    "'45327':'TG0065en-Ed02_8082_My_IC_Phone_and_8088_Smart_DeskPhone_Troubleshooting_Guide',\n",
    "'45328':'TG0067_Alcatel_Lucent_TSAPI_Client_for_Voice_Recorder_en_Ed03',\n",
    "'45329':'TG0068en-Ed11_4059_Extended_Edition_Attendant_Console_TroubleshootingGuide',\n",
    "'55790':'TG0069_SIP_maintenance_R10',\n",
    "'55791':'TG0081en-Ed12_OmniPCX_Record_Troubleshooting_Guide',\n",
    "'41474':'TG0084en-Ed01_How_to_check_the_health_of_the_server_Flexlm_Troubleshooting_Guide',\n",
    "'33275':'TG0086en-Ed01_White_call_or_one_way_communication_Troubleshooting_Guide',\n",
    "'36078':'TG0087en-Ed07_OpenTouch_Client_For_Windows_TroubleshootingGuide',\n",
    "'40080':'TG0089en-Ed03_SIP_phone_trouble_shooting_guide',\n",
    "'41992':'TG0090en-Ed03_installation_and_troubleshoot_of_oxe_in_IPV6_network'}"
   ]
  },
  {
   "cell_type": "code",
   "execution_count": null,
   "metadata": {},
   "outputs": [],
   "source": [
    "import json"
   ]
  },
  {
   "cell_type": "code",
   "execution_count": null,
   "metadata": {},
   "outputs": [],
   "source": [
    "# Reading the Evaluation file without ['title'] JSON file\n",
    "with open('../Data/Haystack_input_files/Evaluation/eval_raw.json', 'r',encoding=\"utf8\") as f:\n",
    "    data = json.load(f)"
   ]
  },
  {
   "cell_type": "code",
   "execution_count": null,
   "metadata": {},
   "outputs": [],
   "source": [
    "# Here we add ['title'] field to each 'context'.\n",
    "\n",
    "for list1 in data['data']:\n",
    "    for list2 in docname_docid.keys():\n",
    "        if str(list1['paragraphs'][0]['document_id'])==list2:\n",
    "            list1['paragraphs'][0]['title'] = docname_docid[list2]"
   ]
  },
  {
   "cell_type": "code",
   "execution_count": null,
   "metadata": {},
   "outputs": [],
   "source": [
    "# Writing the Evaluation file with ['title'] JSON file\n",
    "\n",
    "with open('../Data/Haystack_input_files/Evaluation/eval_with_title.json', 'w',encoding=\"utf8\") as f1:\n",
    "    json.dump(data,f1)"
   ]
  },
  {
   "cell_type": "code",
   "execution_count": null,
   "metadata": {},
   "outputs": [],
   "source": [
    "# Splitting the Evaluation file with ['title'] into 'LONG' and 'SHORT'\n",
    "\n",
    "data_long = []\n",
    "data_short = []\n",
    "for list1 in data['data']:\n",
    "    temp_long = {}\n",
    "    temp_short = {}\n",
    "    new_list_1 = []\n",
    "    new_list_2 = []\n",
    "    new_para_1 = {}\n",
    "    new_para_2 = {}\n",
    "    for list2 in list1['paragraphs']:\n",
    "        first_11 = []\n",
    "        first_22 = []\n",
    "        for list3 in list2['qas']:\n",
    "            if list3['answers'][0]['answer_category']=='LONG':\n",
    "                first_11.append(list3)\n",
    "            else:\n",
    "                first_22.append(list3)\n",
    "    temp_long['qas'] = first_11\n",
    "    temp_short['qas'] = first_22\n",
    "    temp_long['context'] = list1['paragraphs'][0]['context']\n",
    "    temp_short['context'] = list1['paragraphs'][0]['context']\n",
    "    temp_long['document_id'] = list1['paragraphs'][0]['document_id']\n",
    "    temp_short['document_id'] = list1['paragraphs'][0]['document_id']\n",
    "    temp_long['title'] = list1['paragraphs'][0]['title']\n",
    "    temp_short['title'] = list1['paragraphs'][0]['title']\n",
    "    new_list_1.append(temp_long)\n",
    "    new_list_2.append(temp_short)\n",
    "    new_para_1['paragraphs'] = new_list_1\n",
    "    new_para_2['paragraphs'] = new_list_2\n",
    "    data_long.append(new_para_1)\n",
    "    data_short.append(new_para_2)\n",
    "data_long1 = {}\n",
    "data_short1 = {}\n",
    "data_long1['data'] = data_long\n",
    "data_short1['data'] = data_short"
   ]
  },
  {
   "cell_type": "code",
   "execution_count": null,
   "metadata": {},
   "outputs": [],
   "source": [
    "# Writing the Evaluation file with ['title'] JSON file and Question with ['LONG'] Answer\n",
    "\n",
    "with open('../Data/Haystack_input_files/Evaluation/eval_with_title_long.json', 'w',encoding=\"utf8\") as f2:\n",
    "    json.dump(data_long1,f2)"
   ]
  },
  {
   "cell_type": "code",
   "execution_count": null,
   "metadata": {},
   "outputs": [],
   "source": [
    "# Writing the Evaluation file with ['title'] JSON file and Question with ['SHORT'] Answer\n",
    "\n",
    "with open('../Data/Haystack_input_files/Evaluation/eval_with_title_short.json', 'w',encoding=\"utf8\") as f3:\n",
    "    json.dump(data_short1,f3)"
   ]
  }
 ],
 "metadata": {
  "kernelspec": {
   "display_name": "Python 3",
   "language": "python",
   "name": "python3"
  },
  "language_info": {
   "codemirror_mode": {
    "name": "ipython",
    "version": 3
   },
   "file_extension": ".py",
   "mimetype": "text/x-python",
   "name": "python",
   "nbconvert_exporter": "python",
   "pygments_lexer": "ipython3",
   "version": "3.7.3"
  }
 },
 "nbformat": 4,
 "nbformat_minor": 4
}
